{
  "nbformat": 4,
  "nbformat_minor": 0,
  "metadata": {
    "colab": {
      "provenance": [],
      "name": "Implementation_Google Play Store Apps.ipynb",
      "include_colab_link": true
    },
    "kernelspec": {
      "name": "python3",
      "display_name": "Python 3"
    },
    "language_info": {
      "name": "python"
    }
  },
  "cells": [
    {
      "cell_type": "markdown",
      "metadata": {
        "id": "view-in-github",
        "colab_type": "text"
      },
      "source": [
        "<a href=\"https://colab.research.google.com/github/Hasmita09/AIMLMonth2023/blob/main/Implementation_Google_Play_Store_Apps.ipynb\" target=\"_parent\"><img src=\"https://colab.research.google.com/assets/colab-badge.svg\" alt=\"Open In Colab\"/></a>"
      ]
    },
    {
      "cell_type": "markdown",
      "source": [
        "##**Exploratory Data Analysis and App Rating Prediction for Google Play Store Apps**"
      ],
      "metadata": {
        "id": "AoptHSiUEp8g"
      }
    },
    {
      "cell_type": "markdown",
      "source": [
        "**Importing the libraries**"
      ],
      "metadata": {
        "id": "bMp-An4FExbl"
      }
    },
    {
      "cell_type": "code",
      "source": [
        "import pandas as pd\n",
        "import numpy as np\n",
        "import seaborn as sns\n",
        "import matplotlib.pyplot as plt\n",
        "from sklearn.model_selection import train_test_split as tts\n",
        "from sklearn.linear_model import LinearRegression as LR"
      ],
      "metadata": {
        "id": "FjibVgNyEtW0"
      },
      "execution_count": null,
      "outputs": []
    },
    {
      "cell_type": "code",
      "source": [
        "from google.colab import drive\n",
        "drive.mount('/content/drive')"
      ],
      "metadata": {
        "colab": {
          "base_uri": "https://localhost:8080/"
        },
        "id": "gNytlJ1Q2wBv",
        "outputId": "bcdd68f4-d339-4db8-c1ac-a99f5a916975"
      },
      "execution_count": null,
      "outputs": [
        {
          "output_type": "stream",
          "name": "stdout",
          "text": [
            "Mounted at /content/drive\n"
          ]
        }
      ]
    },
    {
      "cell_type": "markdown",
      "source": [
        "**Read the first CSV file**"
      ],
      "metadata": {
        "id": "k3VUrTdkE8Cz"
      }
    },
    {
      "cell_type": "code",
      "source": [
        "data1 = pd.read_csv(r\"/content/drive/MyDrive/major project/googleplaystore.csv\")"
      ],
      "metadata": {
        "id": "krH48OtYkRc-"
      },
      "execution_count": null,
      "outputs": []
    },
    {
      "cell_type": "markdown",
      "source": [
        "**Read the second CSV file**"
      ],
      "metadata": {
        "id": "LrOifJWAFCPL"
      }
    },
    {
      "cell_type": "code",
      "source": [
        "data2 = pd.read_csv(r\"/content/drive/MyDrive/major project/googleplaystore_user_reviews.csv\")"
      ],
      "metadata": {
        "id": "p5nHwsIVkRfe"
      },
      "execution_count": null,
      "outputs": []
    },
    {
      "cell_type": "markdown",
      "source": [
        "**Print column names for data1 and data2 to identify common column**"
      ],
      "metadata": {
        "id": "pxKUwYQuFJ9q"
      }
    },
    {
      "cell_type": "code",
      "source": [
        "print(\"Columns in data1:\", data1.columns)\n",
        "print(\"Columns in data2:\", data2.columns)"
      ],
      "metadata": {
        "id": "xrm79dc-kRiC",
        "colab": {
          "base_uri": "https://localhost:8080/"
        },
        "outputId": "84a32ad2-2cb8-4707-e1dd-3a742cffd62b"
      },
      "execution_count": null,
      "outputs": [
        {
          "output_type": "stream",
          "name": "stdout",
          "text": [
            "Columns in data1: Index(['App', 'Category', 'Rating', 'Reviews', 'Size', 'Installs', 'Type',\n",
            "       'Price', 'Content Rating', 'Genres', 'Last Updated', 'Current Ver',\n",
            "       'Android Ver'],\n",
            "      dtype='object')\n",
            "Columns in data2: Index(['App', 'Translated_Review', 'Sentiment', 'Sentiment_Polarity',\n",
            "       'Sentiment_Subjectivity'],\n",
            "      dtype='object')\n"
          ]
        }
      ]
    },
    {
      "cell_type": "markdown",
      "source": [
        "**Merge the two dataframes based on the identified common column**"
      ],
      "metadata": {
        "id": "DHXH5sG-FTD9"
      }
    },
    {
      "cell_type": "code",
      "source": [
        "data = pd.merge(data1, data2)\n",
        "print(data.head())"
      ],
      "metadata": {
        "id": "UUuUL0PGkRla",
        "colab": {
          "base_uri": "https://localhost:8080/"
        },
        "outputId": "4a48b60e-b90c-45d5-a53d-b88bb7ed93ff"
      },
      "execution_count": null,
      "outputs": [
        {
          "output_type": "stream",
          "name": "stdout",
          "text": [
            "                   App        Category  Rating Reviews Size  Installs  Type  \\\n",
            "0  Coloring book moana  ART_AND_DESIGN     3.9     967  14M  500,000+  Free   \n",
            "1  Coloring book moana  ART_AND_DESIGN     3.9     967  14M  500,000+  Free   \n",
            "2  Coloring book moana  ART_AND_DESIGN     3.9     967  14M  500,000+  Free   \n",
            "3  Coloring book moana  ART_AND_DESIGN     3.9     967  14M  500,000+  Free   \n",
            "4  Coloring book moana  ART_AND_DESIGN     3.9     967  14M  500,000+  Free   \n",
            "\n",
            "  Price Content Rating                     Genres      Last Updated  \\\n",
            "0     0       Everyone  Art & Design;Pretend Play  January 15, 2018   \n",
            "1     0       Everyone  Art & Design;Pretend Play  January 15, 2018   \n",
            "2     0       Everyone  Art & Design;Pretend Play  January 15, 2018   \n",
            "3     0       Everyone  Art & Design;Pretend Play  January 15, 2018   \n",
            "4     0       Everyone  Art & Design;Pretend Play  January 15, 2018   \n",
            "\n",
            "  Current Ver   Android Ver  \\\n",
            "0       2.0.0  4.0.3 and up   \n",
            "1       2.0.0  4.0.3 and up   \n",
            "2       2.0.0  4.0.3 and up   \n",
            "3       2.0.0  4.0.3 and up   \n",
            "4       2.0.0  4.0.3 and up   \n",
            "\n",
            "                                   Translated_Review Sentiment  \\\n",
            "0  A kid's excessive ads. The types ads allowed a...  Negative   \n",
            "1                                         It bad >:(  Negative   \n",
            "2                                               like   Neutral   \n",
            "3                                                NaN       NaN   \n",
            "4                           I love colors inspyering  Positive   \n",
            "\n",
            "   Sentiment_Polarity  Sentiment_Subjectivity  \n",
            "0              -0.250                1.000000  \n",
            "1              -0.725                0.833333  \n",
            "2               0.000                0.000000  \n",
            "3                 NaN                     NaN  \n",
            "4               0.500                0.600000  \n"
          ]
        }
      ]
    },
    {
      "cell_type": "markdown",
      "source": [
        "**Basic data analysis**"
      ],
      "metadata": {
        "id": "JyZ0979JFf9E"
      }
    },
    {
      "cell_type": "code",
      "source": [
        "data.info()"
      ],
      "metadata": {
        "id": "yuLeK5d-kc5e",
        "colab": {
          "base_uri": "https://localhost:8080/"
        },
        "outputId": "c18185ed-1cee-4c1b-ab61-0f7ee760b4de"
      },
      "execution_count": null,
      "outputs": [
        {
          "output_type": "stream",
          "name": "stdout",
          "text": [
            "<class 'pandas.core.frame.DataFrame'>\n",
            "Int64Index: 122662 entries, 0 to 122661\n",
            "Data columns (total 17 columns):\n",
            " #   Column                  Non-Null Count   Dtype  \n",
            "---  ------                  --------------   -----  \n",
            " 0   App                     122662 non-null  object \n",
            " 1   Category                122662 non-null  object \n",
            " 2   Rating                  122622 non-null  float64\n",
            " 3   Reviews                 122662 non-null  object \n",
            " 4   Size                    122662 non-null  object \n",
            " 5   Installs                122662 non-null  object \n",
            " 6   Type                    122662 non-null  object \n",
            " 7   Price                   122662 non-null  object \n",
            " 8   Content Rating          122662 non-null  object \n",
            " 9   Genres                  122662 non-null  object \n",
            " 10  Last Updated            122662 non-null  object \n",
            " 11  Current Ver             122662 non-null  object \n",
            " 12  Android Ver             122662 non-null  object \n",
            " 13  Translated_Review       72605 non-null   object \n",
            " 14  Sentiment               72615 non-null   object \n",
            " 15  Sentiment_Polarity      72615 non-null   float64\n",
            " 16  Sentiment_Subjectivity  72615 non-null   float64\n",
            "dtypes: float64(3), object(14)\n",
            "memory usage: 16.8+ MB\n"
          ]
        }
      ]
    },
    {
      "cell_type": "code",
      "source": [
        "data.shape"
      ],
      "metadata": {
        "id": "KtCGgYnqkc85",
        "colab": {
          "base_uri": "https://localhost:8080/"
        },
        "outputId": "00e3f1f4-9be3-4498-c741-369a3a82c11d"
      },
      "execution_count": null,
      "outputs": [
        {
          "output_type": "execute_result",
          "data": {
            "text/plain": [
              "(122662, 17)"
            ]
          },
          "metadata": {},
          "execution_count": 10
        }
      ]
    },
    {
      "cell_type": "code",
      "source": [
        "data.isnull().any()"
      ],
      "metadata": {
        "id": "jwnqqURnkjbo",
        "colab": {
          "base_uri": "https://localhost:8080/"
        },
        "outputId": "5cdf9576-6819-4630-b04d-fe58d4466bbd"
      },
      "execution_count": null,
      "outputs": [
        {
          "output_type": "execute_result",
          "data": {
            "text/plain": [
              "App                       False\n",
              "Category                  False\n",
              "Rating                     True\n",
              "Reviews                   False\n",
              "Size                      False\n",
              "Installs                  False\n",
              "Type                      False\n",
              "Price                     False\n",
              "Content Rating            False\n",
              "Genres                    False\n",
              "Last Updated              False\n",
              "Current Ver               False\n",
              "Android Ver               False\n",
              "Translated_Review          True\n",
              "Sentiment                  True\n",
              "Sentiment_Polarity         True\n",
              "Sentiment_Subjectivity     True\n",
              "dtype: bool"
            ]
          },
          "metadata": {},
          "execution_count": 11
        }
      ]
    },
    {
      "cell_type": "code",
      "source": [
        "data.isnull().sum()"
      ],
      "metadata": {
        "id": "cwBi8odlkjed",
        "colab": {
          "base_uri": "https://localhost:8080/"
        },
        "outputId": "a95b66d9-0416-4932-da33-c6093ac3bdf4"
      },
      "execution_count": null,
      "outputs": [
        {
          "output_type": "execute_result",
          "data": {
            "text/plain": [
              "App                           0\n",
              "Category                      0\n",
              "Rating                       40\n",
              "Reviews                       0\n",
              "Size                          0\n",
              "Installs                      0\n",
              "Type                          0\n",
              "Price                         0\n",
              "Content Rating                0\n",
              "Genres                        0\n",
              "Last Updated                  0\n",
              "Current Ver                   0\n",
              "Android Ver                   0\n",
              "Translated_Review         50057\n",
              "Sentiment                 50047\n",
              "Sentiment_Polarity        50047\n",
              "Sentiment_Subjectivity    50047\n",
              "dtype: int64"
            ]
          },
          "metadata": {},
          "execution_count": 12
        }
      ]
    },
    {
      "cell_type": "markdown",
      "source": [
        "**Clean the data by dropping rows with missing values**"
      ],
      "metadata": {
        "id": "l7_uf4ppFo0R"
      }
    },
    {
      "cell_type": "code",
      "source": [
        "data = data.dropna()\n",
        "data.isnull().any()"
      ],
      "metadata": {
        "id": "vDWr5WrlkjhQ",
        "colab": {
          "base_uri": "https://localhost:8080/"
        },
        "outputId": "85be605f-93d5-4dff-c4b1-b0cd398ae032"
      },
      "execution_count": null,
      "outputs": [
        {
          "output_type": "execute_result",
          "data": {
            "text/plain": [
              "App                       False\n",
              "Category                  False\n",
              "Rating                    False\n",
              "Reviews                   False\n",
              "Size                      False\n",
              "Installs                  False\n",
              "Type                      False\n",
              "Price                     False\n",
              "Content Rating            False\n",
              "Genres                    False\n",
              "Last Updated              False\n",
              "Current Ver               False\n",
              "Android Ver               False\n",
              "Translated_Review         False\n",
              "Sentiment                 False\n",
              "Sentiment_Polarity        False\n",
              "Sentiment_Subjectivity    False\n",
              "dtype: bool"
            ]
          },
          "metadata": {},
          "execution_count": 13
        }
      ]
    },
    {
      "cell_type": "code",
      "source": [
        "data.shape"
      ],
      "metadata": {
        "id": "bd3Y8DgSkjks",
        "colab": {
          "base_uri": "https://localhost:8080/"
        },
        "outputId": "fde91fb8-d884-494d-ce58-f5905d56ec1e"
      },
      "execution_count": null,
      "outputs": [
        {
          "output_type": "execute_result",
          "data": {
            "text/plain": [
              "(72566, 17)"
            ]
          },
          "metadata": {},
          "execution_count": 14
        }
      ]
    },
    {
      "cell_type": "markdown",
      "source": [
        "**Data transformation: Convert 'Size' to numeric values in MB**"
      ],
      "metadata": {
        "id": "CvZ9mHEDF4Sc"
      }
    },
    {
      "cell_type": "code",
      "source": [
        "data[\"Size\"] = [float(i.split('M')[0]) if isinstance(i, str) and 'M' in i else float(0) for i in data[\"Size\"]]\n",
        "data.head()"
      ],
      "metadata": {
        "id": "1ka5ZwtYksTJ",
        "colab": {
          "base_uri": "https://localhost:8080/",
          "height": 417
        },
        "outputId": "cf00ca88-7bff-461a-d599-3cbcc86533ff"
      },
      "execution_count": null,
      "outputs": [
        {
          "output_type": "execute_result",
          "data": {
            "text/plain": [
              "                   App        Category  Rating Reviews  Size  Installs  Type  \\\n",
              "0  Coloring book moana  ART_AND_DESIGN     3.9     967  14.0  500,000+  Free   \n",
              "1  Coloring book moana  ART_AND_DESIGN     3.9     967  14.0  500,000+  Free   \n",
              "2  Coloring book moana  ART_AND_DESIGN     3.9     967  14.0  500,000+  Free   \n",
              "4  Coloring book moana  ART_AND_DESIGN     3.9     967  14.0  500,000+  Free   \n",
              "5  Coloring book moana  ART_AND_DESIGN     3.9     967  14.0  500,000+  Free   \n",
              "\n",
              "  Price Content Rating                     Genres      Last Updated  \\\n",
              "0     0       Everyone  Art & Design;Pretend Play  January 15, 2018   \n",
              "1     0       Everyone  Art & Design;Pretend Play  January 15, 2018   \n",
              "2     0       Everyone  Art & Design;Pretend Play  January 15, 2018   \n",
              "4     0       Everyone  Art & Design;Pretend Play  January 15, 2018   \n",
              "5     0       Everyone  Art & Design;Pretend Play  January 15, 2018   \n",
              "\n",
              "  Current Ver   Android Ver  \\\n",
              "0       2.0.0  4.0.3 and up   \n",
              "1       2.0.0  4.0.3 and up   \n",
              "2       2.0.0  4.0.3 and up   \n",
              "4       2.0.0  4.0.3 and up   \n",
              "5       2.0.0  4.0.3 and up   \n",
              "\n",
              "                                   Translated_Review Sentiment  \\\n",
              "0  A kid's excessive ads. The types ads allowed a...  Negative   \n",
              "1                                         It bad >:(  Negative   \n",
              "2                                               like   Neutral   \n",
              "4                           I love colors inspyering  Positive   \n",
              "5                                             I hate  Negative   \n",
              "\n",
              "   Sentiment_Polarity  Sentiment_Subjectivity  \n",
              "0              -0.250                1.000000  \n",
              "1              -0.725                0.833333  \n",
              "2               0.000                0.000000  \n",
              "4               0.500                0.600000  \n",
              "5              -0.800                0.900000  "
            ],
            "text/html": [
              "\n",
              "  <div id=\"df-72723b7b-c440-46ce-9047-2341c898ca03\" class=\"colab-df-container\">\n",
              "    <div>\n",
              "<style scoped>\n",
              "    .dataframe tbody tr th:only-of-type {\n",
              "        vertical-align: middle;\n",
              "    }\n",
              "\n",
              "    .dataframe tbody tr th {\n",
              "        vertical-align: top;\n",
              "    }\n",
              "\n",
              "    .dataframe thead th {\n",
              "        text-align: right;\n",
              "    }\n",
              "</style>\n",
              "<table border=\"1\" class=\"dataframe\">\n",
              "  <thead>\n",
              "    <tr style=\"text-align: right;\">\n",
              "      <th></th>\n",
              "      <th>App</th>\n",
              "      <th>Category</th>\n",
              "      <th>Rating</th>\n",
              "      <th>Reviews</th>\n",
              "      <th>Size</th>\n",
              "      <th>Installs</th>\n",
              "      <th>Type</th>\n",
              "      <th>Price</th>\n",
              "      <th>Content Rating</th>\n",
              "      <th>Genres</th>\n",
              "      <th>Last Updated</th>\n",
              "      <th>Current Ver</th>\n",
              "      <th>Android Ver</th>\n",
              "      <th>Translated_Review</th>\n",
              "      <th>Sentiment</th>\n",
              "      <th>Sentiment_Polarity</th>\n",
              "      <th>Sentiment_Subjectivity</th>\n",
              "    </tr>\n",
              "  </thead>\n",
              "  <tbody>\n",
              "    <tr>\n",
              "      <th>0</th>\n",
              "      <td>Coloring book moana</td>\n",
              "      <td>ART_AND_DESIGN</td>\n",
              "      <td>3.9</td>\n",
              "      <td>967</td>\n",
              "      <td>14.0</td>\n",
              "      <td>500,000+</td>\n",
              "      <td>Free</td>\n",
              "      <td>0</td>\n",
              "      <td>Everyone</td>\n",
              "      <td>Art &amp; Design;Pretend Play</td>\n",
              "      <td>January 15, 2018</td>\n",
              "      <td>2.0.0</td>\n",
              "      <td>4.0.3 and up</td>\n",
              "      <td>A kid's excessive ads. The types ads allowed a...</td>\n",
              "      <td>Negative</td>\n",
              "      <td>-0.250</td>\n",
              "      <td>1.000000</td>\n",
              "    </tr>\n",
              "    <tr>\n",
              "      <th>1</th>\n",
              "      <td>Coloring book moana</td>\n",
              "      <td>ART_AND_DESIGN</td>\n",
              "      <td>3.9</td>\n",
              "      <td>967</td>\n",
              "      <td>14.0</td>\n",
              "      <td>500,000+</td>\n",
              "      <td>Free</td>\n",
              "      <td>0</td>\n",
              "      <td>Everyone</td>\n",
              "      <td>Art &amp; Design;Pretend Play</td>\n",
              "      <td>January 15, 2018</td>\n",
              "      <td>2.0.0</td>\n",
              "      <td>4.0.3 and up</td>\n",
              "      <td>It bad &gt;:(</td>\n",
              "      <td>Negative</td>\n",
              "      <td>-0.725</td>\n",
              "      <td>0.833333</td>\n",
              "    </tr>\n",
              "    <tr>\n",
              "      <th>2</th>\n",
              "      <td>Coloring book moana</td>\n",
              "      <td>ART_AND_DESIGN</td>\n",
              "      <td>3.9</td>\n",
              "      <td>967</td>\n",
              "      <td>14.0</td>\n",
              "      <td>500,000+</td>\n",
              "      <td>Free</td>\n",
              "      <td>0</td>\n",
              "      <td>Everyone</td>\n",
              "      <td>Art &amp; Design;Pretend Play</td>\n",
              "      <td>January 15, 2018</td>\n",
              "      <td>2.0.0</td>\n",
              "      <td>4.0.3 and up</td>\n",
              "      <td>like</td>\n",
              "      <td>Neutral</td>\n",
              "      <td>0.000</td>\n",
              "      <td>0.000000</td>\n",
              "    </tr>\n",
              "    <tr>\n",
              "      <th>4</th>\n",
              "      <td>Coloring book moana</td>\n",
              "      <td>ART_AND_DESIGN</td>\n",
              "      <td>3.9</td>\n",
              "      <td>967</td>\n",
              "      <td>14.0</td>\n",
              "      <td>500,000+</td>\n",
              "      <td>Free</td>\n",
              "      <td>0</td>\n",
              "      <td>Everyone</td>\n",
              "      <td>Art &amp; Design;Pretend Play</td>\n",
              "      <td>January 15, 2018</td>\n",
              "      <td>2.0.0</td>\n",
              "      <td>4.0.3 and up</td>\n",
              "      <td>I love colors inspyering</td>\n",
              "      <td>Positive</td>\n",
              "      <td>0.500</td>\n",
              "      <td>0.600000</td>\n",
              "    </tr>\n",
              "    <tr>\n",
              "      <th>5</th>\n",
              "      <td>Coloring book moana</td>\n",
              "      <td>ART_AND_DESIGN</td>\n",
              "      <td>3.9</td>\n",
              "      <td>967</td>\n",
              "      <td>14.0</td>\n",
              "      <td>500,000+</td>\n",
              "      <td>Free</td>\n",
              "      <td>0</td>\n",
              "      <td>Everyone</td>\n",
              "      <td>Art &amp; Design;Pretend Play</td>\n",
              "      <td>January 15, 2018</td>\n",
              "      <td>2.0.0</td>\n",
              "      <td>4.0.3 and up</td>\n",
              "      <td>I hate</td>\n",
              "      <td>Negative</td>\n",
              "      <td>-0.800</td>\n",
              "      <td>0.900000</td>\n",
              "    </tr>\n",
              "  </tbody>\n",
              "</table>\n",
              "</div>\n",
              "    <div class=\"colab-df-buttons\">\n",
              "\n",
              "  <div class=\"colab-df-container\">\n",
              "    <button class=\"colab-df-convert\" onclick=\"convertToInteractive('df-72723b7b-c440-46ce-9047-2341c898ca03')\"\n",
              "            title=\"Convert this dataframe to an interactive table.\"\n",
              "            style=\"display:none;\">\n",
              "\n",
              "  <svg xmlns=\"http://www.w3.org/2000/svg\" height=\"24px\" viewBox=\"0 -960 960 960\">\n",
              "    <path d=\"M120-120v-720h720v720H120Zm60-500h600v-160H180v160Zm220 220h160v-160H400v160Zm0 220h160v-160H400v160ZM180-400h160v-160H180v160Zm440 0h160v-160H620v160ZM180-180h160v-160H180v160Zm440 0h160v-160H620v160Z\"/>\n",
              "  </svg>\n",
              "    </button>\n",
              "\n",
              "  <style>\n",
              "    .colab-df-container {\n",
              "      display:flex;\n",
              "      gap: 12px;\n",
              "    }\n",
              "\n",
              "    .colab-df-convert {\n",
              "      background-color: #E8F0FE;\n",
              "      border: none;\n",
              "      border-radius: 50%;\n",
              "      cursor: pointer;\n",
              "      display: none;\n",
              "      fill: #1967D2;\n",
              "      height: 32px;\n",
              "      padding: 0 0 0 0;\n",
              "      width: 32px;\n",
              "    }\n",
              "\n",
              "    .colab-df-convert:hover {\n",
              "      background-color: #E2EBFA;\n",
              "      box-shadow: 0px 1px 2px rgba(60, 64, 67, 0.3), 0px 1px 3px 1px rgba(60, 64, 67, 0.15);\n",
              "      fill: #174EA6;\n",
              "    }\n",
              "\n",
              "    .colab-df-buttons div {\n",
              "      margin-bottom: 4px;\n",
              "    }\n",
              "\n",
              "    [theme=dark] .colab-df-convert {\n",
              "      background-color: #3B4455;\n",
              "      fill: #D2E3FC;\n",
              "    }\n",
              "\n",
              "    [theme=dark] .colab-df-convert:hover {\n",
              "      background-color: #434B5C;\n",
              "      box-shadow: 0px 1px 3px 1px rgba(0, 0, 0, 0.15);\n",
              "      filter: drop-shadow(0px 1px 2px rgba(0, 0, 0, 0.3));\n",
              "      fill: #FFFFFF;\n",
              "    }\n",
              "  </style>\n",
              "\n",
              "    <script>\n",
              "      const buttonEl =\n",
              "        document.querySelector('#df-72723b7b-c440-46ce-9047-2341c898ca03 button.colab-df-convert');\n",
              "      buttonEl.style.display =\n",
              "        google.colab.kernel.accessAllowed ? 'block' : 'none';\n",
              "\n",
              "      async function convertToInteractive(key) {\n",
              "        const element = document.querySelector('#df-72723b7b-c440-46ce-9047-2341c898ca03');\n",
              "        const dataTable =\n",
              "          await google.colab.kernel.invokeFunction('convertToInteractive',\n",
              "                                                    [key], {});\n",
              "        if (!dataTable) return;\n",
              "\n",
              "        const docLinkHtml = 'Like what you see? Visit the ' +\n",
              "          '<a target=\"_blank\" href=https://colab.research.google.com/notebooks/data_table.ipynb>data table notebook</a>'\n",
              "          + ' to learn more about interactive tables.';\n",
              "        element.innerHTML = '';\n",
              "        dataTable['output_type'] = 'display_data';\n",
              "        await google.colab.output.renderOutput(dataTable, element);\n",
              "        const docLink = document.createElement('div');\n",
              "        docLink.innerHTML = docLinkHtml;\n",
              "        element.appendChild(docLink);\n",
              "      }\n",
              "    </script>\n",
              "  </div>\n",
              "\n",
              "\n",
              "<div id=\"df-493a5691-9206-4e90-9038-7a8409747b34\">\n",
              "  <button class=\"colab-df-quickchart\" onclick=\"quickchart('df-493a5691-9206-4e90-9038-7a8409747b34')\"\n",
              "            title=\"Suggest charts.\"\n",
              "            style=\"display:none;\">\n",
              "\n",
              "<svg xmlns=\"http://www.w3.org/2000/svg\" height=\"24px\"viewBox=\"0 0 24 24\"\n",
              "     width=\"24px\">\n",
              "    <g>\n",
              "        <path d=\"M19 3H5c-1.1 0-2 .9-2 2v14c0 1.1.9 2 2 2h14c1.1 0 2-.9 2-2V5c0-1.1-.9-2-2-2zM9 17H7v-7h2v7zm4 0h-2V7h2v10zm4 0h-2v-4h2v4z\"/>\n",
              "    </g>\n",
              "</svg>\n",
              "  </button>\n",
              "\n",
              "<style>\n",
              "  .colab-df-quickchart {\n",
              "      --bg-color: #E8F0FE;\n",
              "      --fill-color: #1967D2;\n",
              "      --hover-bg-color: #E2EBFA;\n",
              "      --hover-fill-color: #174EA6;\n",
              "      --disabled-fill-color: #AAA;\n",
              "      --disabled-bg-color: #DDD;\n",
              "  }\n",
              "\n",
              "  [theme=dark] .colab-df-quickchart {\n",
              "      --bg-color: #3B4455;\n",
              "      --fill-color: #D2E3FC;\n",
              "      --hover-bg-color: #434B5C;\n",
              "      --hover-fill-color: #FFFFFF;\n",
              "      --disabled-bg-color: #3B4455;\n",
              "      --disabled-fill-color: #666;\n",
              "  }\n",
              "\n",
              "  .colab-df-quickchart {\n",
              "    background-color: var(--bg-color);\n",
              "    border: none;\n",
              "    border-radius: 50%;\n",
              "    cursor: pointer;\n",
              "    display: none;\n",
              "    fill: var(--fill-color);\n",
              "    height: 32px;\n",
              "    padding: 0;\n",
              "    width: 32px;\n",
              "  }\n",
              "\n",
              "  .colab-df-quickchart:hover {\n",
              "    background-color: var(--hover-bg-color);\n",
              "    box-shadow: 0 1px 2px rgba(60, 64, 67, 0.3), 0 1px 3px 1px rgba(60, 64, 67, 0.15);\n",
              "    fill: var(--button-hover-fill-color);\n",
              "  }\n",
              "\n",
              "  .colab-df-quickchart-complete:disabled,\n",
              "  .colab-df-quickchart-complete:disabled:hover {\n",
              "    background-color: var(--disabled-bg-color);\n",
              "    fill: var(--disabled-fill-color);\n",
              "    box-shadow: none;\n",
              "  }\n",
              "\n",
              "  .colab-df-spinner {\n",
              "    border: 2px solid var(--fill-color);\n",
              "    border-color: transparent;\n",
              "    border-bottom-color: var(--fill-color);\n",
              "    animation:\n",
              "      spin 1s steps(1) infinite;\n",
              "  }\n",
              "\n",
              "  @keyframes spin {\n",
              "    0% {\n",
              "      border-color: transparent;\n",
              "      border-bottom-color: var(--fill-color);\n",
              "      border-left-color: var(--fill-color);\n",
              "    }\n",
              "    20% {\n",
              "      border-color: transparent;\n",
              "      border-left-color: var(--fill-color);\n",
              "      border-top-color: var(--fill-color);\n",
              "    }\n",
              "    30% {\n",
              "      border-color: transparent;\n",
              "      border-left-color: var(--fill-color);\n",
              "      border-top-color: var(--fill-color);\n",
              "      border-right-color: var(--fill-color);\n",
              "    }\n",
              "    40% {\n",
              "      border-color: transparent;\n",
              "      border-right-color: var(--fill-color);\n",
              "      border-top-color: var(--fill-color);\n",
              "    }\n",
              "    60% {\n",
              "      border-color: transparent;\n",
              "      border-right-color: var(--fill-color);\n",
              "    }\n",
              "    80% {\n",
              "      border-color: transparent;\n",
              "      border-right-color: var(--fill-color);\n",
              "      border-bottom-color: var(--fill-color);\n",
              "    }\n",
              "    90% {\n",
              "      border-color: transparent;\n",
              "      border-bottom-color: var(--fill-color);\n",
              "    }\n",
              "  }\n",
              "</style>\n",
              "\n",
              "  <script>\n",
              "    async function quickchart(key) {\n",
              "      const quickchartButtonEl =\n",
              "        document.querySelector('#' + key + ' button');\n",
              "      quickchartButtonEl.disabled = true;  // To prevent multiple clicks.\n",
              "      quickchartButtonEl.classList.add('colab-df-spinner');\n",
              "      try {\n",
              "        const charts = await google.colab.kernel.invokeFunction(\n",
              "            'suggestCharts', [key], {});\n",
              "      } catch (error) {\n",
              "        console.error('Error during call to suggestCharts:', error);\n",
              "      }\n",
              "      quickchartButtonEl.classList.remove('colab-df-spinner');\n",
              "      quickchartButtonEl.classList.add('colab-df-quickchart-complete');\n",
              "    }\n",
              "    (() => {\n",
              "      let quickchartButtonEl =\n",
              "        document.querySelector('#df-493a5691-9206-4e90-9038-7a8409747b34 button');\n",
              "      quickchartButtonEl.style.display =\n",
              "        google.colab.kernel.accessAllowed ? 'block' : 'none';\n",
              "    })();\n",
              "  </script>\n",
              "</div>\n",
              "    </div>\n",
              "  </div>\n"
            ]
          },
          "metadata": {},
          "execution_count": 15
        }
      ]
    },
    {
      "cell_type": "code",
      "source": [
        "data[\"Size\"] = 1000 * data[\"Size\"]\n",
        "data"
      ],
      "metadata": {
        "id": "nUBzj_DYksVx",
        "colab": {
          "base_uri": "https://localhost:8080/",
          "height": 981
        },
        "outputId": "1bf9ee41-6716-4a7f-cd3d-b5e42f6635a4"
      },
      "execution_count": null,
      "outputs": [
        {
          "output_type": "execute_result",
          "data": {
            "text/plain": [
              "                                 App        Category  Rating Reviews     Size  \\\n",
              "0                Coloring book moana  ART_AND_DESIGN     3.9     967  14000.0   \n",
              "1                Coloring book moana  ART_AND_DESIGN     3.9     967  14000.0   \n",
              "2                Coloring book moana  ART_AND_DESIGN     3.9     967  14000.0   \n",
              "4                Coloring book moana  ART_AND_DESIGN     3.9     967  14000.0   \n",
              "5                Coloring book moana  ART_AND_DESIGN     3.9     967  14000.0   \n",
              "...                              ...             ...     ...     ...      ...   \n",
              "122646  A+ Gallery - Photos & Videos     PHOTOGRAPHY     4.5  223941      0.0   \n",
              "122652  A+ Gallery - Photos & Videos     PHOTOGRAPHY     4.5  223941      0.0   \n",
              "122659  A+ Gallery - Photos & Videos     PHOTOGRAPHY     4.5  223941      0.0   \n",
              "122660  A+ Gallery - Photos & Videos     PHOTOGRAPHY     4.5  223941      0.0   \n",
              "122661  A+ Gallery - Photos & Videos     PHOTOGRAPHY     4.5  223941      0.0   \n",
              "\n",
              "           Installs  Type Price Content Rating                     Genres  \\\n",
              "0          500,000+  Free     0       Everyone  Art & Design;Pretend Play   \n",
              "1          500,000+  Free     0       Everyone  Art & Design;Pretend Play   \n",
              "2          500,000+  Free     0       Everyone  Art & Design;Pretend Play   \n",
              "4          500,000+  Free     0       Everyone  Art & Design;Pretend Play   \n",
              "5          500,000+  Free     0       Everyone  Art & Design;Pretend Play   \n",
              "...             ...   ...   ...            ...                        ...   \n",
              "122646  10,000,000+  Free     0       Everyone                Photography   \n",
              "122652  10,000,000+  Free     0       Everyone                Photography   \n",
              "122659  10,000,000+  Free     0       Everyone                Photography   \n",
              "122660  10,000,000+  Free     0       Everyone                Photography   \n",
              "122661  10,000,000+  Free     0       Everyone                Photography   \n",
              "\n",
              "            Last Updated         Current Ver         Android Ver  \\\n",
              "0       January 15, 2018               2.0.0        4.0.3 and up   \n",
              "1       January 15, 2018               2.0.0        4.0.3 and up   \n",
              "2       January 15, 2018               2.0.0        4.0.3 and up   \n",
              "4       January 15, 2018               2.0.0        4.0.3 and up   \n",
              "5       January 15, 2018               2.0.0        4.0.3 and up   \n",
              "...                  ...                 ...                 ...   \n",
              "122646    August 6, 2018  Varies with device  Varies with device   \n",
              "122652    August 6, 2018  Varies with device  Varies with device   \n",
              "122659    August 6, 2018  Varies with device  Varies with device   \n",
              "122660    August 6, 2018  Varies with device  Varies with device   \n",
              "122661    August 6, 2018  Varies with device  Varies with device   \n",
              "\n",
              "                                        Translated_Review Sentiment  \\\n",
              "0       A kid's excessive ads. The types ads allowed a...  Negative   \n",
              "1                                              It bad >:(  Negative   \n",
              "2                                                    like   Neutral   \n",
              "4                                I love colors inspyering  Positive   \n",
              "5                                                  I hate  Negative   \n",
              "...                                                   ...       ...   \n",
              "122646           Overall great app. Best gallery seen far  Positive   \n",
              "122652  Recommended, 100% love it, keep good work dev ...  Positive   \n",
              "122659                                       Too much ads  Positive   \n",
              "122660                                Just allow time ...   Neutral   \n",
              "122661                       It's good best gallery phone  Positive   \n",
              "\n",
              "        Sentiment_Polarity  Sentiment_Subjectivity  \n",
              "0                -0.250000                1.000000  \n",
              "1                -0.725000                0.833333  \n",
              "2                 0.000000                0.000000  \n",
              "4                 0.500000                0.600000  \n",
              "5                -0.800000                0.900000  \n",
              "...                    ...                     ...  \n",
              "122646            0.475000                0.512500  \n",
              "122652            0.566667                0.733333  \n",
              "122659            0.200000                0.200000  \n",
              "122660            0.000000                0.000000  \n",
              "122661            0.850000                0.450000  \n",
              "\n",
              "[72566 rows x 17 columns]"
            ],
            "text/html": [
              "\n",
              "  <div id=\"df-6a4dbccc-cc47-422a-88e9-eb58acca7c1d\" class=\"colab-df-container\">\n",
              "    <div>\n",
              "<style scoped>\n",
              "    .dataframe tbody tr th:only-of-type {\n",
              "        vertical-align: middle;\n",
              "    }\n",
              "\n",
              "    .dataframe tbody tr th {\n",
              "        vertical-align: top;\n",
              "    }\n",
              "\n",
              "    .dataframe thead th {\n",
              "        text-align: right;\n",
              "    }\n",
              "</style>\n",
              "<table border=\"1\" class=\"dataframe\">\n",
              "  <thead>\n",
              "    <tr style=\"text-align: right;\">\n",
              "      <th></th>\n",
              "      <th>App</th>\n",
              "      <th>Category</th>\n",
              "      <th>Rating</th>\n",
              "      <th>Reviews</th>\n",
              "      <th>Size</th>\n",
              "      <th>Installs</th>\n",
              "      <th>Type</th>\n",
              "      <th>Price</th>\n",
              "      <th>Content Rating</th>\n",
              "      <th>Genres</th>\n",
              "      <th>Last Updated</th>\n",
              "      <th>Current Ver</th>\n",
              "      <th>Android Ver</th>\n",
              "      <th>Translated_Review</th>\n",
              "      <th>Sentiment</th>\n",
              "      <th>Sentiment_Polarity</th>\n",
              "      <th>Sentiment_Subjectivity</th>\n",
              "    </tr>\n",
              "  </thead>\n",
              "  <tbody>\n",
              "    <tr>\n",
              "      <th>0</th>\n",
              "      <td>Coloring book moana</td>\n",
              "      <td>ART_AND_DESIGN</td>\n",
              "      <td>3.9</td>\n",
              "      <td>967</td>\n",
              "      <td>14000.0</td>\n",
              "      <td>500,000+</td>\n",
              "      <td>Free</td>\n",
              "      <td>0</td>\n",
              "      <td>Everyone</td>\n",
              "      <td>Art &amp; Design;Pretend Play</td>\n",
              "      <td>January 15, 2018</td>\n",
              "      <td>2.0.0</td>\n",
              "      <td>4.0.3 and up</td>\n",
              "      <td>A kid's excessive ads. The types ads allowed a...</td>\n",
              "      <td>Negative</td>\n",
              "      <td>-0.250000</td>\n",
              "      <td>1.000000</td>\n",
              "    </tr>\n",
              "    <tr>\n",
              "      <th>1</th>\n",
              "      <td>Coloring book moana</td>\n",
              "      <td>ART_AND_DESIGN</td>\n",
              "      <td>3.9</td>\n",
              "      <td>967</td>\n",
              "      <td>14000.0</td>\n",
              "      <td>500,000+</td>\n",
              "      <td>Free</td>\n",
              "      <td>0</td>\n",
              "      <td>Everyone</td>\n",
              "      <td>Art &amp; Design;Pretend Play</td>\n",
              "      <td>January 15, 2018</td>\n",
              "      <td>2.0.0</td>\n",
              "      <td>4.0.3 and up</td>\n",
              "      <td>It bad &gt;:(</td>\n",
              "      <td>Negative</td>\n",
              "      <td>-0.725000</td>\n",
              "      <td>0.833333</td>\n",
              "    </tr>\n",
              "    <tr>\n",
              "      <th>2</th>\n",
              "      <td>Coloring book moana</td>\n",
              "      <td>ART_AND_DESIGN</td>\n",
              "      <td>3.9</td>\n",
              "      <td>967</td>\n",
              "      <td>14000.0</td>\n",
              "      <td>500,000+</td>\n",
              "      <td>Free</td>\n",
              "      <td>0</td>\n",
              "      <td>Everyone</td>\n",
              "      <td>Art &amp; Design;Pretend Play</td>\n",
              "      <td>January 15, 2018</td>\n",
              "      <td>2.0.0</td>\n",
              "      <td>4.0.3 and up</td>\n",
              "      <td>like</td>\n",
              "      <td>Neutral</td>\n",
              "      <td>0.000000</td>\n",
              "      <td>0.000000</td>\n",
              "    </tr>\n",
              "    <tr>\n",
              "      <th>4</th>\n",
              "      <td>Coloring book moana</td>\n",
              "      <td>ART_AND_DESIGN</td>\n",
              "      <td>3.9</td>\n",
              "      <td>967</td>\n",
              "      <td>14000.0</td>\n",
              "      <td>500,000+</td>\n",
              "      <td>Free</td>\n",
              "      <td>0</td>\n",
              "      <td>Everyone</td>\n",
              "      <td>Art &amp; Design;Pretend Play</td>\n",
              "      <td>January 15, 2018</td>\n",
              "      <td>2.0.0</td>\n",
              "      <td>4.0.3 and up</td>\n",
              "      <td>I love colors inspyering</td>\n",
              "      <td>Positive</td>\n",
              "      <td>0.500000</td>\n",
              "      <td>0.600000</td>\n",
              "    </tr>\n",
              "    <tr>\n",
              "      <th>5</th>\n",
              "      <td>Coloring book moana</td>\n",
              "      <td>ART_AND_DESIGN</td>\n",
              "      <td>3.9</td>\n",
              "      <td>967</td>\n",
              "      <td>14000.0</td>\n",
              "      <td>500,000+</td>\n",
              "      <td>Free</td>\n",
              "      <td>0</td>\n",
              "      <td>Everyone</td>\n",
              "      <td>Art &amp; Design;Pretend Play</td>\n",
              "      <td>January 15, 2018</td>\n",
              "      <td>2.0.0</td>\n",
              "      <td>4.0.3 and up</td>\n",
              "      <td>I hate</td>\n",
              "      <td>Negative</td>\n",
              "      <td>-0.800000</td>\n",
              "      <td>0.900000</td>\n",
              "    </tr>\n",
              "    <tr>\n",
              "      <th>...</th>\n",
              "      <td>...</td>\n",
              "      <td>...</td>\n",
              "      <td>...</td>\n",
              "      <td>...</td>\n",
              "      <td>...</td>\n",
              "      <td>...</td>\n",
              "      <td>...</td>\n",
              "      <td>...</td>\n",
              "      <td>...</td>\n",
              "      <td>...</td>\n",
              "      <td>...</td>\n",
              "      <td>...</td>\n",
              "      <td>...</td>\n",
              "      <td>...</td>\n",
              "      <td>...</td>\n",
              "      <td>...</td>\n",
              "      <td>...</td>\n",
              "    </tr>\n",
              "    <tr>\n",
              "      <th>122646</th>\n",
              "      <td>A+ Gallery - Photos &amp; Videos</td>\n",
              "      <td>PHOTOGRAPHY</td>\n",
              "      <td>4.5</td>\n",
              "      <td>223941</td>\n",
              "      <td>0.0</td>\n",
              "      <td>10,000,000+</td>\n",
              "      <td>Free</td>\n",
              "      <td>0</td>\n",
              "      <td>Everyone</td>\n",
              "      <td>Photography</td>\n",
              "      <td>August 6, 2018</td>\n",
              "      <td>Varies with device</td>\n",
              "      <td>Varies with device</td>\n",
              "      <td>Overall great app. Best gallery seen far</td>\n",
              "      <td>Positive</td>\n",
              "      <td>0.475000</td>\n",
              "      <td>0.512500</td>\n",
              "    </tr>\n",
              "    <tr>\n",
              "      <th>122652</th>\n",
              "      <td>A+ Gallery - Photos &amp; Videos</td>\n",
              "      <td>PHOTOGRAPHY</td>\n",
              "      <td>4.5</td>\n",
              "      <td>223941</td>\n",
              "      <td>0.0</td>\n",
              "      <td>10,000,000+</td>\n",
              "      <td>Free</td>\n",
              "      <td>0</td>\n",
              "      <td>Everyone</td>\n",
              "      <td>Photography</td>\n",
              "      <td>August 6, 2018</td>\n",
              "      <td>Varies with device</td>\n",
              "      <td>Varies with device</td>\n",
              "      <td>Recommended, 100% love it, keep good work dev ...</td>\n",
              "      <td>Positive</td>\n",
              "      <td>0.566667</td>\n",
              "      <td>0.733333</td>\n",
              "    </tr>\n",
              "    <tr>\n",
              "      <th>122659</th>\n",
              "      <td>A+ Gallery - Photos &amp; Videos</td>\n",
              "      <td>PHOTOGRAPHY</td>\n",
              "      <td>4.5</td>\n",
              "      <td>223941</td>\n",
              "      <td>0.0</td>\n",
              "      <td>10,000,000+</td>\n",
              "      <td>Free</td>\n",
              "      <td>0</td>\n",
              "      <td>Everyone</td>\n",
              "      <td>Photography</td>\n",
              "      <td>August 6, 2018</td>\n",
              "      <td>Varies with device</td>\n",
              "      <td>Varies with device</td>\n",
              "      <td>Too much ads</td>\n",
              "      <td>Positive</td>\n",
              "      <td>0.200000</td>\n",
              "      <td>0.200000</td>\n",
              "    </tr>\n",
              "    <tr>\n",
              "      <th>122660</th>\n",
              "      <td>A+ Gallery - Photos &amp; Videos</td>\n",
              "      <td>PHOTOGRAPHY</td>\n",
              "      <td>4.5</td>\n",
              "      <td>223941</td>\n",
              "      <td>0.0</td>\n",
              "      <td>10,000,000+</td>\n",
              "      <td>Free</td>\n",
              "      <td>0</td>\n",
              "      <td>Everyone</td>\n",
              "      <td>Photography</td>\n",
              "      <td>August 6, 2018</td>\n",
              "      <td>Varies with device</td>\n",
              "      <td>Varies with device</td>\n",
              "      <td>Just allow time ...</td>\n",
              "      <td>Neutral</td>\n",
              "      <td>0.000000</td>\n",
              "      <td>0.000000</td>\n",
              "    </tr>\n",
              "    <tr>\n",
              "      <th>122661</th>\n",
              "      <td>A+ Gallery - Photos &amp; Videos</td>\n",
              "      <td>PHOTOGRAPHY</td>\n",
              "      <td>4.5</td>\n",
              "      <td>223941</td>\n",
              "      <td>0.0</td>\n",
              "      <td>10,000,000+</td>\n",
              "      <td>Free</td>\n",
              "      <td>0</td>\n",
              "      <td>Everyone</td>\n",
              "      <td>Photography</td>\n",
              "      <td>August 6, 2018</td>\n",
              "      <td>Varies with device</td>\n",
              "      <td>Varies with device</td>\n",
              "      <td>It's good best gallery phone</td>\n",
              "      <td>Positive</td>\n",
              "      <td>0.850000</td>\n",
              "      <td>0.450000</td>\n",
              "    </tr>\n",
              "  </tbody>\n",
              "</table>\n",
              "<p>72566 rows × 17 columns</p>\n",
              "</div>\n",
              "    <div class=\"colab-df-buttons\">\n",
              "\n",
              "  <div class=\"colab-df-container\">\n",
              "    <button class=\"colab-df-convert\" onclick=\"convertToInteractive('df-6a4dbccc-cc47-422a-88e9-eb58acca7c1d')\"\n",
              "            title=\"Convert this dataframe to an interactive table.\"\n",
              "            style=\"display:none;\">\n",
              "\n",
              "  <svg xmlns=\"http://www.w3.org/2000/svg\" height=\"24px\" viewBox=\"0 -960 960 960\">\n",
              "    <path d=\"M120-120v-720h720v720H120Zm60-500h600v-160H180v160Zm220 220h160v-160H400v160Zm0 220h160v-160H400v160ZM180-400h160v-160H180v160Zm440 0h160v-160H620v160ZM180-180h160v-160H180v160Zm440 0h160v-160H620v160Z\"/>\n",
              "  </svg>\n",
              "    </button>\n",
              "\n",
              "  <style>\n",
              "    .colab-df-container {\n",
              "      display:flex;\n",
              "      gap: 12px;\n",
              "    }\n",
              "\n",
              "    .colab-df-convert {\n",
              "      background-color: #E8F0FE;\n",
              "      border: none;\n",
              "      border-radius: 50%;\n",
              "      cursor: pointer;\n",
              "      display: none;\n",
              "      fill: #1967D2;\n",
              "      height: 32px;\n",
              "      padding: 0 0 0 0;\n",
              "      width: 32px;\n",
              "    }\n",
              "\n",
              "    .colab-df-convert:hover {\n",
              "      background-color: #E2EBFA;\n",
              "      box-shadow: 0px 1px 2px rgba(60, 64, 67, 0.3), 0px 1px 3px 1px rgba(60, 64, 67, 0.15);\n",
              "      fill: #174EA6;\n",
              "    }\n",
              "\n",
              "    .colab-df-buttons div {\n",
              "      margin-bottom: 4px;\n",
              "    }\n",
              "\n",
              "    [theme=dark] .colab-df-convert {\n",
              "      background-color: #3B4455;\n",
              "      fill: #D2E3FC;\n",
              "    }\n",
              "\n",
              "    [theme=dark] .colab-df-convert:hover {\n",
              "      background-color: #434B5C;\n",
              "      box-shadow: 0px 1px 3px 1px rgba(0, 0, 0, 0.15);\n",
              "      filter: drop-shadow(0px 1px 2px rgba(0, 0, 0, 0.3));\n",
              "      fill: #FFFFFF;\n",
              "    }\n",
              "  </style>\n",
              "\n",
              "    <script>\n",
              "      const buttonEl =\n",
              "        document.querySelector('#df-6a4dbccc-cc47-422a-88e9-eb58acca7c1d button.colab-df-convert');\n",
              "      buttonEl.style.display =\n",
              "        google.colab.kernel.accessAllowed ? 'block' : 'none';\n",
              "\n",
              "      async function convertToInteractive(key) {\n",
              "        const element = document.querySelector('#df-6a4dbccc-cc47-422a-88e9-eb58acca7c1d');\n",
              "        const dataTable =\n",
              "          await google.colab.kernel.invokeFunction('convertToInteractive',\n",
              "                                                    [key], {});\n",
              "        if (!dataTable) return;\n",
              "\n",
              "        const docLinkHtml = 'Like what you see? Visit the ' +\n",
              "          '<a target=\"_blank\" href=https://colab.research.google.com/notebooks/data_table.ipynb>data table notebook</a>'\n",
              "          + ' to learn more about interactive tables.';\n",
              "        element.innerHTML = '';\n",
              "        dataTable['output_type'] = 'display_data';\n",
              "        await google.colab.output.renderOutput(dataTable, element);\n",
              "        const docLink = document.createElement('div');\n",
              "        docLink.innerHTML = docLinkHtml;\n",
              "        element.appendChild(docLink);\n",
              "      }\n",
              "    </script>\n",
              "  </div>\n",
              "\n",
              "\n",
              "<div id=\"df-060c412d-5ed3-44d4-b5c8-3df2b43454b7\">\n",
              "  <button class=\"colab-df-quickchart\" onclick=\"quickchart('df-060c412d-5ed3-44d4-b5c8-3df2b43454b7')\"\n",
              "            title=\"Suggest charts.\"\n",
              "            style=\"display:none;\">\n",
              "\n",
              "<svg xmlns=\"http://www.w3.org/2000/svg\" height=\"24px\"viewBox=\"0 0 24 24\"\n",
              "     width=\"24px\">\n",
              "    <g>\n",
              "        <path d=\"M19 3H5c-1.1 0-2 .9-2 2v14c0 1.1.9 2 2 2h14c1.1 0 2-.9 2-2V5c0-1.1-.9-2-2-2zM9 17H7v-7h2v7zm4 0h-2V7h2v10zm4 0h-2v-4h2v4z\"/>\n",
              "    </g>\n",
              "</svg>\n",
              "  </button>\n",
              "\n",
              "<style>\n",
              "  .colab-df-quickchart {\n",
              "      --bg-color: #E8F0FE;\n",
              "      --fill-color: #1967D2;\n",
              "      --hover-bg-color: #E2EBFA;\n",
              "      --hover-fill-color: #174EA6;\n",
              "      --disabled-fill-color: #AAA;\n",
              "      --disabled-bg-color: #DDD;\n",
              "  }\n",
              "\n",
              "  [theme=dark] .colab-df-quickchart {\n",
              "      --bg-color: #3B4455;\n",
              "      --fill-color: #D2E3FC;\n",
              "      --hover-bg-color: #434B5C;\n",
              "      --hover-fill-color: #FFFFFF;\n",
              "      --disabled-bg-color: #3B4455;\n",
              "      --disabled-fill-color: #666;\n",
              "  }\n",
              "\n",
              "  .colab-df-quickchart {\n",
              "    background-color: var(--bg-color);\n",
              "    border: none;\n",
              "    border-radius: 50%;\n",
              "    cursor: pointer;\n",
              "    display: none;\n",
              "    fill: var(--fill-color);\n",
              "    height: 32px;\n",
              "    padding: 0;\n",
              "    width: 32px;\n",
              "  }\n",
              "\n",
              "  .colab-df-quickchart:hover {\n",
              "    background-color: var(--hover-bg-color);\n",
              "    box-shadow: 0 1px 2px rgba(60, 64, 67, 0.3), 0 1px 3px 1px rgba(60, 64, 67, 0.15);\n",
              "    fill: var(--button-hover-fill-color);\n",
              "  }\n",
              "\n",
              "  .colab-df-quickchart-complete:disabled,\n",
              "  .colab-df-quickchart-complete:disabled:hover {\n",
              "    background-color: var(--disabled-bg-color);\n",
              "    fill: var(--disabled-fill-color);\n",
              "    box-shadow: none;\n",
              "  }\n",
              "\n",
              "  .colab-df-spinner {\n",
              "    border: 2px solid var(--fill-color);\n",
              "    border-color: transparent;\n",
              "    border-bottom-color: var(--fill-color);\n",
              "    animation:\n",
              "      spin 1s steps(1) infinite;\n",
              "  }\n",
              "\n",
              "  @keyframes spin {\n",
              "    0% {\n",
              "      border-color: transparent;\n",
              "      border-bottom-color: var(--fill-color);\n",
              "      border-left-color: var(--fill-color);\n",
              "    }\n",
              "    20% {\n",
              "      border-color: transparent;\n",
              "      border-left-color: var(--fill-color);\n",
              "      border-top-color: var(--fill-color);\n",
              "    }\n",
              "    30% {\n",
              "      border-color: transparent;\n",
              "      border-left-color: var(--fill-color);\n",
              "      border-top-color: var(--fill-color);\n",
              "      border-right-color: var(--fill-color);\n",
              "    }\n",
              "    40% {\n",
              "      border-color: transparent;\n",
              "      border-right-color: var(--fill-color);\n",
              "      border-top-color: var(--fill-color);\n",
              "    }\n",
              "    60% {\n",
              "      border-color: transparent;\n",
              "      border-right-color: var(--fill-color);\n",
              "    }\n",
              "    80% {\n",
              "      border-color: transparent;\n",
              "      border-right-color: var(--fill-color);\n",
              "      border-bottom-color: var(--fill-color);\n",
              "    }\n",
              "    90% {\n",
              "      border-color: transparent;\n",
              "      border-bottom-color: var(--fill-color);\n",
              "    }\n",
              "  }\n",
              "</style>\n",
              "\n",
              "  <script>\n",
              "    async function quickchart(key) {\n",
              "      const quickchartButtonEl =\n",
              "        document.querySelector('#' + key + ' button');\n",
              "      quickchartButtonEl.disabled = true;  // To prevent multiple clicks.\n",
              "      quickchartButtonEl.classList.add('colab-df-spinner');\n",
              "      try {\n",
              "        const charts = await google.colab.kernel.invokeFunction(\n",
              "            'suggestCharts', [key], {});\n",
              "      } catch (error) {\n",
              "        console.error('Error during call to suggestCharts:', error);\n",
              "      }\n",
              "      quickchartButtonEl.classList.remove('colab-df-spinner');\n",
              "      quickchartButtonEl.classList.add('colab-df-quickchart-complete');\n",
              "    }\n",
              "    (() => {\n",
              "      let quickchartButtonEl =\n",
              "        document.querySelector('#df-060c412d-5ed3-44d4-b5c8-3df2b43454b7 button');\n",
              "      quickchartButtonEl.style.display =\n",
              "        google.colab.kernel.accessAllowed ? 'block' : 'none';\n",
              "    })();\n",
              "  </script>\n",
              "</div>\n",
              "    </div>\n",
              "  </div>\n"
            ]
          },
          "metadata": {},
          "execution_count": 16
        }
      ]
    },
    {
      "cell_type": "markdown",
      "source": [
        "**Convert 'Reviews' to float**"
      ],
      "metadata": {
        "id": "HwchoeD5GFk2"
      }
    },
    {
      "cell_type": "code",
      "source": [
        "data[\"Reviews\"] = data[\"Reviews\"].astype(float)\n",
        "data.info()"
      ],
      "metadata": {
        "id": "0eRzAnP9ksZO",
        "colab": {
          "base_uri": "https://localhost:8080/"
        },
        "outputId": "8526e91c-9ef5-4e11-c19a-cbf86849813e"
      },
      "execution_count": null,
      "outputs": [
        {
          "output_type": "stream",
          "name": "stdout",
          "text": [
            "<class 'pandas.core.frame.DataFrame'>\n",
            "Int64Index: 72566 entries, 0 to 122661\n",
            "Data columns (total 17 columns):\n",
            " #   Column                  Non-Null Count  Dtype  \n",
            "---  ------                  --------------  -----  \n",
            " 0   App                     72566 non-null  object \n",
            " 1   Category                72566 non-null  object \n",
            " 2   Rating                  72566 non-null  float64\n",
            " 3   Reviews                 72566 non-null  float64\n",
            " 4   Size                    72566 non-null  float64\n",
            " 5   Installs                72566 non-null  object \n",
            " 6   Type                    72566 non-null  object \n",
            " 7   Price                   72566 non-null  object \n",
            " 8   Content Rating          72566 non-null  object \n",
            " 9   Genres                  72566 non-null  object \n",
            " 10  Last Updated            72566 non-null  object \n",
            " 11  Current Ver             72566 non-null  object \n",
            " 12  Android Ver             72566 non-null  object \n",
            " 13  Translated_Review       72566 non-null  object \n",
            " 14  Sentiment               72566 non-null  object \n",
            " 15  Sentiment_Polarity      72566 non-null  float64\n",
            " 16  Sentiment_Subjectivity  72566 non-null  float64\n",
            "dtypes: float64(5), object(12)\n",
            "memory usage: 10.0+ MB\n"
          ]
        }
      ]
    },
    {
      "cell_type": "markdown",
      "source": [
        "**Convert 'Installs' to numeric values**"
      ],
      "metadata": {
        "id": "6SOHEN1hGKnc"
      }
    },
    {
      "cell_type": "code",
      "source": [
        "data[\"Installs\"] = data[\"Installs\"].apply(lambda x: float(x.replace('+', '').replace(',', '')) if isinstance(x, str) else float(x))\n",
        "data.head()"
      ],
      "metadata": {
        "id": "7nWgjk3ykyq4",
        "colab": {
          "base_uri": "https://localhost:8080/",
          "height": 417
        },
        "outputId": "f6ef2ffb-5647-4b31-d09a-f88b73f4b2de"
      },
      "execution_count": null,
      "outputs": [
        {
          "output_type": "execute_result",
          "data": {
            "text/plain": [
              "                   App        Category  Rating  Reviews     Size  Installs  \\\n",
              "0  Coloring book moana  ART_AND_DESIGN     3.9    967.0  14000.0  500000.0   \n",
              "1  Coloring book moana  ART_AND_DESIGN     3.9    967.0  14000.0  500000.0   \n",
              "2  Coloring book moana  ART_AND_DESIGN     3.9    967.0  14000.0  500000.0   \n",
              "4  Coloring book moana  ART_AND_DESIGN     3.9    967.0  14000.0  500000.0   \n",
              "5  Coloring book moana  ART_AND_DESIGN     3.9    967.0  14000.0  500000.0   \n",
              "\n",
              "   Type Price Content Rating                     Genres      Last Updated  \\\n",
              "0  Free     0       Everyone  Art & Design;Pretend Play  January 15, 2018   \n",
              "1  Free     0       Everyone  Art & Design;Pretend Play  January 15, 2018   \n",
              "2  Free     0       Everyone  Art & Design;Pretend Play  January 15, 2018   \n",
              "4  Free     0       Everyone  Art & Design;Pretend Play  January 15, 2018   \n",
              "5  Free     0       Everyone  Art & Design;Pretend Play  January 15, 2018   \n",
              "\n",
              "  Current Ver   Android Ver  \\\n",
              "0       2.0.0  4.0.3 and up   \n",
              "1       2.0.0  4.0.3 and up   \n",
              "2       2.0.0  4.0.3 and up   \n",
              "4       2.0.0  4.0.3 and up   \n",
              "5       2.0.0  4.0.3 and up   \n",
              "\n",
              "                                   Translated_Review Sentiment  \\\n",
              "0  A kid's excessive ads. The types ads allowed a...  Negative   \n",
              "1                                         It bad >:(  Negative   \n",
              "2                                               like   Neutral   \n",
              "4                           I love colors inspyering  Positive   \n",
              "5                                             I hate  Negative   \n",
              "\n",
              "   Sentiment_Polarity  Sentiment_Subjectivity  \n",
              "0              -0.250                1.000000  \n",
              "1              -0.725                0.833333  \n",
              "2               0.000                0.000000  \n",
              "4               0.500                0.600000  \n",
              "5              -0.800                0.900000  "
            ],
            "text/html": [
              "\n",
              "  <div id=\"df-af63fc6d-d161-42a5-bdf1-8f011947ecf8\" class=\"colab-df-container\">\n",
              "    <div>\n",
              "<style scoped>\n",
              "    .dataframe tbody tr th:only-of-type {\n",
              "        vertical-align: middle;\n",
              "    }\n",
              "\n",
              "    .dataframe tbody tr th {\n",
              "        vertical-align: top;\n",
              "    }\n",
              "\n",
              "    .dataframe thead th {\n",
              "        text-align: right;\n",
              "    }\n",
              "</style>\n",
              "<table border=\"1\" class=\"dataframe\">\n",
              "  <thead>\n",
              "    <tr style=\"text-align: right;\">\n",
              "      <th></th>\n",
              "      <th>App</th>\n",
              "      <th>Category</th>\n",
              "      <th>Rating</th>\n",
              "      <th>Reviews</th>\n",
              "      <th>Size</th>\n",
              "      <th>Installs</th>\n",
              "      <th>Type</th>\n",
              "      <th>Price</th>\n",
              "      <th>Content Rating</th>\n",
              "      <th>Genres</th>\n",
              "      <th>Last Updated</th>\n",
              "      <th>Current Ver</th>\n",
              "      <th>Android Ver</th>\n",
              "      <th>Translated_Review</th>\n",
              "      <th>Sentiment</th>\n",
              "      <th>Sentiment_Polarity</th>\n",
              "      <th>Sentiment_Subjectivity</th>\n",
              "    </tr>\n",
              "  </thead>\n",
              "  <tbody>\n",
              "    <tr>\n",
              "      <th>0</th>\n",
              "      <td>Coloring book moana</td>\n",
              "      <td>ART_AND_DESIGN</td>\n",
              "      <td>3.9</td>\n",
              "      <td>967.0</td>\n",
              "      <td>14000.0</td>\n",
              "      <td>500000.0</td>\n",
              "      <td>Free</td>\n",
              "      <td>0</td>\n",
              "      <td>Everyone</td>\n",
              "      <td>Art &amp; Design;Pretend Play</td>\n",
              "      <td>January 15, 2018</td>\n",
              "      <td>2.0.0</td>\n",
              "      <td>4.0.3 and up</td>\n",
              "      <td>A kid's excessive ads. The types ads allowed a...</td>\n",
              "      <td>Negative</td>\n",
              "      <td>-0.250</td>\n",
              "      <td>1.000000</td>\n",
              "    </tr>\n",
              "    <tr>\n",
              "      <th>1</th>\n",
              "      <td>Coloring book moana</td>\n",
              "      <td>ART_AND_DESIGN</td>\n",
              "      <td>3.9</td>\n",
              "      <td>967.0</td>\n",
              "      <td>14000.0</td>\n",
              "      <td>500000.0</td>\n",
              "      <td>Free</td>\n",
              "      <td>0</td>\n",
              "      <td>Everyone</td>\n",
              "      <td>Art &amp; Design;Pretend Play</td>\n",
              "      <td>January 15, 2018</td>\n",
              "      <td>2.0.0</td>\n",
              "      <td>4.0.3 and up</td>\n",
              "      <td>It bad &gt;:(</td>\n",
              "      <td>Negative</td>\n",
              "      <td>-0.725</td>\n",
              "      <td>0.833333</td>\n",
              "    </tr>\n",
              "    <tr>\n",
              "      <th>2</th>\n",
              "      <td>Coloring book moana</td>\n",
              "      <td>ART_AND_DESIGN</td>\n",
              "      <td>3.9</td>\n",
              "      <td>967.0</td>\n",
              "      <td>14000.0</td>\n",
              "      <td>500000.0</td>\n",
              "      <td>Free</td>\n",
              "      <td>0</td>\n",
              "      <td>Everyone</td>\n",
              "      <td>Art &amp; Design;Pretend Play</td>\n",
              "      <td>January 15, 2018</td>\n",
              "      <td>2.0.0</td>\n",
              "      <td>4.0.3 and up</td>\n",
              "      <td>like</td>\n",
              "      <td>Neutral</td>\n",
              "      <td>0.000</td>\n",
              "      <td>0.000000</td>\n",
              "    </tr>\n",
              "    <tr>\n",
              "      <th>4</th>\n",
              "      <td>Coloring book moana</td>\n",
              "      <td>ART_AND_DESIGN</td>\n",
              "      <td>3.9</td>\n",
              "      <td>967.0</td>\n",
              "      <td>14000.0</td>\n",
              "      <td>500000.0</td>\n",
              "      <td>Free</td>\n",
              "      <td>0</td>\n",
              "      <td>Everyone</td>\n",
              "      <td>Art &amp; Design;Pretend Play</td>\n",
              "      <td>January 15, 2018</td>\n",
              "      <td>2.0.0</td>\n",
              "      <td>4.0.3 and up</td>\n",
              "      <td>I love colors inspyering</td>\n",
              "      <td>Positive</td>\n",
              "      <td>0.500</td>\n",
              "      <td>0.600000</td>\n",
              "    </tr>\n",
              "    <tr>\n",
              "      <th>5</th>\n",
              "      <td>Coloring book moana</td>\n",
              "      <td>ART_AND_DESIGN</td>\n",
              "      <td>3.9</td>\n",
              "      <td>967.0</td>\n",
              "      <td>14000.0</td>\n",
              "      <td>500000.0</td>\n",
              "      <td>Free</td>\n",
              "      <td>0</td>\n",
              "      <td>Everyone</td>\n",
              "      <td>Art &amp; Design;Pretend Play</td>\n",
              "      <td>January 15, 2018</td>\n",
              "      <td>2.0.0</td>\n",
              "      <td>4.0.3 and up</td>\n",
              "      <td>I hate</td>\n",
              "      <td>Negative</td>\n",
              "      <td>-0.800</td>\n",
              "      <td>0.900000</td>\n",
              "    </tr>\n",
              "  </tbody>\n",
              "</table>\n",
              "</div>\n",
              "    <div class=\"colab-df-buttons\">\n",
              "\n",
              "  <div class=\"colab-df-container\">\n",
              "    <button class=\"colab-df-convert\" onclick=\"convertToInteractive('df-af63fc6d-d161-42a5-bdf1-8f011947ecf8')\"\n",
              "            title=\"Convert this dataframe to an interactive table.\"\n",
              "            style=\"display:none;\">\n",
              "\n",
              "  <svg xmlns=\"http://www.w3.org/2000/svg\" height=\"24px\" viewBox=\"0 -960 960 960\">\n",
              "    <path d=\"M120-120v-720h720v720H120Zm60-500h600v-160H180v160Zm220 220h160v-160H400v160Zm0 220h160v-160H400v160ZM180-400h160v-160H180v160Zm440 0h160v-160H620v160ZM180-180h160v-160H180v160Zm440 0h160v-160H620v160Z\"/>\n",
              "  </svg>\n",
              "    </button>\n",
              "\n",
              "  <style>\n",
              "    .colab-df-container {\n",
              "      display:flex;\n",
              "      gap: 12px;\n",
              "    }\n",
              "\n",
              "    .colab-df-convert {\n",
              "      background-color: #E8F0FE;\n",
              "      border: none;\n",
              "      border-radius: 50%;\n",
              "      cursor: pointer;\n",
              "      display: none;\n",
              "      fill: #1967D2;\n",
              "      height: 32px;\n",
              "      padding: 0 0 0 0;\n",
              "      width: 32px;\n",
              "    }\n",
              "\n",
              "    .colab-df-convert:hover {\n",
              "      background-color: #E2EBFA;\n",
              "      box-shadow: 0px 1px 2px rgba(60, 64, 67, 0.3), 0px 1px 3px 1px rgba(60, 64, 67, 0.15);\n",
              "      fill: #174EA6;\n",
              "    }\n",
              "\n",
              "    .colab-df-buttons div {\n",
              "      margin-bottom: 4px;\n",
              "    }\n",
              "\n",
              "    [theme=dark] .colab-df-convert {\n",
              "      background-color: #3B4455;\n",
              "      fill: #D2E3FC;\n",
              "    }\n",
              "\n",
              "    [theme=dark] .colab-df-convert:hover {\n",
              "      background-color: #434B5C;\n",
              "      box-shadow: 0px 1px 3px 1px rgba(0, 0, 0, 0.15);\n",
              "      filter: drop-shadow(0px 1px 2px rgba(0, 0, 0, 0.3));\n",
              "      fill: #FFFFFF;\n",
              "    }\n",
              "  </style>\n",
              "\n",
              "    <script>\n",
              "      const buttonEl =\n",
              "        document.querySelector('#df-af63fc6d-d161-42a5-bdf1-8f011947ecf8 button.colab-df-convert');\n",
              "      buttonEl.style.display =\n",
              "        google.colab.kernel.accessAllowed ? 'block' : 'none';\n",
              "\n",
              "      async function convertToInteractive(key) {\n",
              "        const element = document.querySelector('#df-af63fc6d-d161-42a5-bdf1-8f011947ecf8');\n",
              "        const dataTable =\n",
              "          await google.colab.kernel.invokeFunction('convertToInteractive',\n",
              "                                                    [key], {});\n",
              "        if (!dataTable) return;\n",
              "\n",
              "        const docLinkHtml = 'Like what you see? Visit the ' +\n",
              "          '<a target=\"_blank\" href=https://colab.research.google.com/notebooks/data_table.ipynb>data table notebook</a>'\n",
              "          + ' to learn more about interactive tables.';\n",
              "        element.innerHTML = '';\n",
              "        dataTable['output_type'] = 'display_data';\n",
              "        await google.colab.output.renderOutput(dataTable, element);\n",
              "        const docLink = document.createElement('div');\n",
              "        docLink.innerHTML = docLinkHtml;\n",
              "        element.appendChild(docLink);\n",
              "      }\n",
              "    </script>\n",
              "  </div>\n",
              "\n",
              "\n",
              "<div id=\"df-64bc3ffd-3ef1-4c92-bf1c-0a0092c959d1\">\n",
              "  <button class=\"colab-df-quickchart\" onclick=\"quickchart('df-64bc3ffd-3ef1-4c92-bf1c-0a0092c959d1')\"\n",
              "            title=\"Suggest charts.\"\n",
              "            style=\"display:none;\">\n",
              "\n",
              "<svg xmlns=\"http://www.w3.org/2000/svg\" height=\"24px\"viewBox=\"0 0 24 24\"\n",
              "     width=\"24px\">\n",
              "    <g>\n",
              "        <path d=\"M19 3H5c-1.1 0-2 .9-2 2v14c0 1.1.9 2 2 2h14c1.1 0 2-.9 2-2V5c0-1.1-.9-2-2-2zM9 17H7v-7h2v7zm4 0h-2V7h2v10zm4 0h-2v-4h2v4z\"/>\n",
              "    </g>\n",
              "</svg>\n",
              "  </button>\n",
              "\n",
              "<style>\n",
              "  .colab-df-quickchart {\n",
              "      --bg-color: #E8F0FE;\n",
              "      --fill-color: #1967D2;\n",
              "      --hover-bg-color: #E2EBFA;\n",
              "      --hover-fill-color: #174EA6;\n",
              "      --disabled-fill-color: #AAA;\n",
              "      --disabled-bg-color: #DDD;\n",
              "  }\n",
              "\n",
              "  [theme=dark] .colab-df-quickchart {\n",
              "      --bg-color: #3B4455;\n",
              "      --fill-color: #D2E3FC;\n",
              "      --hover-bg-color: #434B5C;\n",
              "      --hover-fill-color: #FFFFFF;\n",
              "      --disabled-bg-color: #3B4455;\n",
              "      --disabled-fill-color: #666;\n",
              "  }\n",
              "\n",
              "  .colab-df-quickchart {\n",
              "    background-color: var(--bg-color);\n",
              "    border: none;\n",
              "    border-radius: 50%;\n",
              "    cursor: pointer;\n",
              "    display: none;\n",
              "    fill: var(--fill-color);\n",
              "    height: 32px;\n",
              "    padding: 0;\n",
              "    width: 32px;\n",
              "  }\n",
              "\n",
              "  .colab-df-quickchart:hover {\n",
              "    background-color: var(--hover-bg-color);\n",
              "    box-shadow: 0 1px 2px rgba(60, 64, 67, 0.3), 0 1px 3px 1px rgba(60, 64, 67, 0.15);\n",
              "    fill: var(--button-hover-fill-color);\n",
              "  }\n",
              "\n",
              "  .colab-df-quickchart-complete:disabled,\n",
              "  .colab-df-quickchart-complete:disabled:hover {\n",
              "    background-color: var(--disabled-bg-color);\n",
              "    fill: var(--disabled-fill-color);\n",
              "    box-shadow: none;\n",
              "  }\n",
              "\n",
              "  .colab-df-spinner {\n",
              "    border: 2px solid var(--fill-color);\n",
              "    border-color: transparent;\n",
              "    border-bottom-color: var(--fill-color);\n",
              "    animation:\n",
              "      spin 1s steps(1) infinite;\n",
              "  }\n",
              "\n",
              "  @keyframes spin {\n",
              "    0% {\n",
              "      border-color: transparent;\n",
              "      border-bottom-color: var(--fill-color);\n",
              "      border-left-color: var(--fill-color);\n",
              "    }\n",
              "    20% {\n",
              "      border-color: transparent;\n",
              "      border-left-color: var(--fill-color);\n",
              "      border-top-color: var(--fill-color);\n",
              "    }\n",
              "    30% {\n",
              "      border-color: transparent;\n",
              "      border-left-color: var(--fill-color);\n",
              "      border-top-color: var(--fill-color);\n",
              "      border-right-color: var(--fill-color);\n",
              "    }\n",
              "    40% {\n",
              "      border-color: transparent;\n",
              "      border-right-color: var(--fill-color);\n",
              "      border-top-color: var(--fill-color);\n",
              "    }\n",
              "    60% {\n",
              "      border-color: transparent;\n",
              "      border-right-color: var(--fill-color);\n",
              "    }\n",
              "    80% {\n",
              "      border-color: transparent;\n",
              "      border-right-color: var(--fill-color);\n",
              "      border-bottom-color: var(--fill-color);\n",
              "    }\n",
              "    90% {\n",
              "      border-color: transparent;\n",
              "      border-bottom-color: var(--fill-color);\n",
              "    }\n",
              "  }\n",
              "</style>\n",
              "\n",
              "  <script>\n",
              "    async function quickchart(key) {\n",
              "      const quickchartButtonEl =\n",
              "        document.querySelector('#' + key + ' button');\n",
              "      quickchartButtonEl.disabled = true;  // To prevent multiple clicks.\n",
              "      quickchartButtonEl.classList.add('colab-df-spinner');\n",
              "      try {\n",
              "        const charts = await google.colab.kernel.invokeFunction(\n",
              "            'suggestCharts', [key], {});\n",
              "      } catch (error) {\n",
              "        console.error('Error during call to suggestCharts:', error);\n",
              "      }\n",
              "      quickchartButtonEl.classList.remove('colab-df-spinner');\n",
              "      quickchartButtonEl.classList.add('colab-df-quickchart-complete');\n",
              "    }\n",
              "    (() => {\n",
              "      let quickchartButtonEl =\n",
              "        document.querySelector('#df-64bc3ffd-3ef1-4c92-bf1c-0a0092c959d1 button');\n",
              "      quickchartButtonEl.style.display =\n",
              "        google.colab.kernel.accessAllowed ? 'block' : 'none';\n",
              "    })();\n",
              "  </script>\n",
              "</div>\n",
              "    </div>\n",
              "  </div>\n"
            ]
          },
          "metadata": {},
          "execution_count": 18
        }
      ]
    },
    {
      "cell_type": "code",
      "source": [
        "data[\"Installs\"] = data[\"Installs\"].astype(int)\n",
        "data.info()"
      ],
      "metadata": {
        "id": "R9wJlkX-kytW",
        "colab": {
          "base_uri": "https://localhost:8080/"
        },
        "outputId": "72d2d89c-a165-40ea-9e88-5830d5d6e139"
      },
      "execution_count": null,
      "outputs": [
        {
          "output_type": "stream",
          "name": "stdout",
          "text": [
            "<class 'pandas.core.frame.DataFrame'>\n",
            "Int64Index: 72566 entries, 0 to 122661\n",
            "Data columns (total 17 columns):\n",
            " #   Column                  Non-Null Count  Dtype  \n",
            "---  ------                  --------------  -----  \n",
            " 0   App                     72566 non-null  object \n",
            " 1   Category                72566 non-null  object \n",
            " 2   Rating                  72566 non-null  float64\n",
            " 3   Reviews                 72566 non-null  float64\n",
            " 4   Size                    72566 non-null  float64\n",
            " 5   Installs                72566 non-null  int64  \n",
            " 6   Type                    72566 non-null  object \n",
            " 7   Price                   72566 non-null  object \n",
            " 8   Content Rating          72566 non-null  object \n",
            " 9   Genres                  72566 non-null  object \n",
            " 10  Last Updated            72566 non-null  object \n",
            " 11  Current Ver             72566 non-null  object \n",
            " 12  Android Ver             72566 non-null  object \n",
            " 13  Translated_Review       72566 non-null  object \n",
            " 14  Sentiment               72566 non-null  object \n",
            " 15  Sentiment_Polarity      72566 non-null  float64\n",
            " 16  Sentiment_Subjectivity  72566 non-null  float64\n",
            "dtypes: float64(5), int64(1), object(11)\n",
            "memory usage: 10.0+ MB\n"
          ]
        }
      ]
    },
    {
      "cell_type": "markdown",
      "source": [
        "**Convert 'Price' to numeric values**"
      ],
      "metadata": {
        "id": "7U9jJFJ1GQz1"
      }
    },
    {
      "cell_type": "code",
      "source": [
        "data['Price'] = [float(i.split('$')[1]) if isinstance(i, str) and '$' in i else 0.0 for i in data['Price']]\n",
        "data.head()"
      ],
      "metadata": {
        "id": "ctt5M7B6kyvs",
        "colab": {
          "base_uri": "https://localhost:8080/",
          "height": 417
        },
        "outputId": "ca9b8b45-b738-4de3-b782-0c0b835074d7"
      },
      "execution_count": null,
      "outputs": [
        {
          "output_type": "execute_result",
          "data": {
            "text/plain": [
              "                   App        Category  Rating  Reviews     Size  Installs  \\\n",
              "0  Coloring book moana  ART_AND_DESIGN     3.9    967.0  14000.0    500000   \n",
              "1  Coloring book moana  ART_AND_DESIGN     3.9    967.0  14000.0    500000   \n",
              "2  Coloring book moana  ART_AND_DESIGN     3.9    967.0  14000.0    500000   \n",
              "4  Coloring book moana  ART_AND_DESIGN     3.9    967.0  14000.0    500000   \n",
              "5  Coloring book moana  ART_AND_DESIGN     3.9    967.0  14000.0    500000   \n",
              "\n",
              "   Type  Price Content Rating                     Genres      Last Updated  \\\n",
              "0  Free    0.0       Everyone  Art & Design;Pretend Play  January 15, 2018   \n",
              "1  Free    0.0       Everyone  Art & Design;Pretend Play  January 15, 2018   \n",
              "2  Free    0.0       Everyone  Art & Design;Pretend Play  January 15, 2018   \n",
              "4  Free    0.0       Everyone  Art & Design;Pretend Play  January 15, 2018   \n",
              "5  Free    0.0       Everyone  Art & Design;Pretend Play  January 15, 2018   \n",
              "\n",
              "  Current Ver   Android Ver  \\\n",
              "0       2.0.0  4.0.3 and up   \n",
              "1       2.0.0  4.0.3 and up   \n",
              "2       2.0.0  4.0.3 and up   \n",
              "4       2.0.0  4.0.3 and up   \n",
              "5       2.0.0  4.0.3 and up   \n",
              "\n",
              "                                   Translated_Review Sentiment  \\\n",
              "0  A kid's excessive ads. The types ads allowed a...  Negative   \n",
              "1                                         It bad >:(  Negative   \n",
              "2                                               like   Neutral   \n",
              "4                           I love colors inspyering  Positive   \n",
              "5                                             I hate  Negative   \n",
              "\n",
              "   Sentiment_Polarity  Sentiment_Subjectivity  \n",
              "0              -0.250                1.000000  \n",
              "1              -0.725                0.833333  \n",
              "2               0.000                0.000000  \n",
              "4               0.500                0.600000  \n",
              "5              -0.800                0.900000  "
            ],
            "text/html": [
              "\n",
              "  <div id=\"df-bcd3503c-557e-4b0f-8a63-21aba134f322\" class=\"colab-df-container\">\n",
              "    <div>\n",
              "<style scoped>\n",
              "    .dataframe tbody tr th:only-of-type {\n",
              "        vertical-align: middle;\n",
              "    }\n",
              "\n",
              "    .dataframe tbody tr th {\n",
              "        vertical-align: top;\n",
              "    }\n",
              "\n",
              "    .dataframe thead th {\n",
              "        text-align: right;\n",
              "    }\n",
              "</style>\n",
              "<table border=\"1\" class=\"dataframe\">\n",
              "  <thead>\n",
              "    <tr style=\"text-align: right;\">\n",
              "      <th></th>\n",
              "      <th>App</th>\n",
              "      <th>Category</th>\n",
              "      <th>Rating</th>\n",
              "      <th>Reviews</th>\n",
              "      <th>Size</th>\n",
              "      <th>Installs</th>\n",
              "      <th>Type</th>\n",
              "      <th>Price</th>\n",
              "      <th>Content Rating</th>\n",
              "      <th>Genres</th>\n",
              "      <th>Last Updated</th>\n",
              "      <th>Current Ver</th>\n",
              "      <th>Android Ver</th>\n",
              "      <th>Translated_Review</th>\n",
              "      <th>Sentiment</th>\n",
              "      <th>Sentiment_Polarity</th>\n",
              "      <th>Sentiment_Subjectivity</th>\n",
              "    </tr>\n",
              "  </thead>\n",
              "  <tbody>\n",
              "    <tr>\n",
              "      <th>0</th>\n",
              "      <td>Coloring book moana</td>\n",
              "      <td>ART_AND_DESIGN</td>\n",
              "      <td>3.9</td>\n",
              "      <td>967.0</td>\n",
              "      <td>14000.0</td>\n",
              "      <td>500000</td>\n",
              "      <td>Free</td>\n",
              "      <td>0.0</td>\n",
              "      <td>Everyone</td>\n",
              "      <td>Art &amp; Design;Pretend Play</td>\n",
              "      <td>January 15, 2018</td>\n",
              "      <td>2.0.0</td>\n",
              "      <td>4.0.3 and up</td>\n",
              "      <td>A kid's excessive ads. The types ads allowed a...</td>\n",
              "      <td>Negative</td>\n",
              "      <td>-0.250</td>\n",
              "      <td>1.000000</td>\n",
              "    </tr>\n",
              "    <tr>\n",
              "      <th>1</th>\n",
              "      <td>Coloring book moana</td>\n",
              "      <td>ART_AND_DESIGN</td>\n",
              "      <td>3.9</td>\n",
              "      <td>967.0</td>\n",
              "      <td>14000.0</td>\n",
              "      <td>500000</td>\n",
              "      <td>Free</td>\n",
              "      <td>0.0</td>\n",
              "      <td>Everyone</td>\n",
              "      <td>Art &amp; Design;Pretend Play</td>\n",
              "      <td>January 15, 2018</td>\n",
              "      <td>2.0.0</td>\n",
              "      <td>4.0.3 and up</td>\n",
              "      <td>It bad &gt;:(</td>\n",
              "      <td>Negative</td>\n",
              "      <td>-0.725</td>\n",
              "      <td>0.833333</td>\n",
              "    </tr>\n",
              "    <tr>\n",
              "      <th>2</th>\n",
              "      <td>Coloring book moana</td>\n",
              "      <td>ART_AND_DESIGN</td>\n",
              "      <td>3.9</td>\n",
              "      <td>967.0</td>\n",
              "      <td>14000.0</td>\n",
              "      <td>500000</td>\n",
              "      <td>Free</td>\n",
              "      <td>0.0</td>\n",
              "      <td>Everyone</td>\n",
              "      <td>Art &amp; Design;Pretend Play</td>\n",
              "      <td>January 15, 2018</td>\n",
              "      <td>2.0.0</td>\n",
              "      <td>4.0.3 and up</td>\n",
              "      <td>like</td>\n",
              "      <td>Neutral</td>\n",
              "      <td>0.000</td>\n",
              "      <td>0.000000</td>\n",
              "    </tr>\n",
              "    <tr>\n",
              "      <th>4</th>\n",
              "      <td>Coloring book moana</td>\n",
              "      <td>ART_AND_DESIGN</td>\n",
              "      <td>3.9</td>\n",
              "      <td>967.0</td>\n",
              "      <td>14000.0</td>\n",
              "      <td>500000</td>\n",
              "      <td>Free</td>\n",
              "      <td>0.0</td>\n",
              "      <td>Everyone</td>\n",
              "      <td>Art &amp; Design;Pretend Play</td>\n",
              "      <td>January 15, 2018</td>\n",
              "      <td>2.0.0</td>\n",
              "      <td>4.0.3 and up</td>\n",
              "      <td>I love colors inspyering</td>\n",
              "      <td>Positive</td>\n",
              "      <td>0.500</td>\n",
              "      <td>0.600000</td>\n",
              "    </tr>\n",
              "    <tr>\n",
              "      <th>5</th>\n",
              "      <td>Coloring book moana</td>\n",
              "      <td>ART_AND_DESIGN</td>\n",
              "      <td>3.9</td>\n",
              "      <td>967.0</td>\n",
              "      <td>14000.0</td>\n",
              "      <td>500000</td>\n",
              "      <td>Free</td>\n",
              "      <td>0.0</td>\n",
              "      <td>Everyone</td>\n",
              "      <td>Art &amp; Design;Pretend Play</td>\n",
              "      <td>January 15, 2018</td>\n",
              "      <td>2.0.0</td>\n",
              "      <td>4.0.3 and up</td>\n",
              "      <td>I hate</td>\n",
              "      <td>Negative</td>\n",
              "      <td>-0.800</td>\n",
              "      <td>0.900000</td>\n",
              "    </tr>\n",
              "  </tbody>\n",
              "</table>\n",
              "</div>\n",
              "    <div class=\"colab-df-buttons\">\n",
              "\n",
              "  <div class=\"colab-df-container\">\n",
              "    <button class=\"colab-df-convert\" onclick=\"convertToInteractive('df-bcd3503c-557e-4b0f-8a63-21aba134f322')\"\n",
              "            title=\"Convert this dataframe to an interactive table.\"\n",
              "            style=\"display:none;\">\n",
              "\n",
              "  <svg xmlns=\"http://www.w3.org/2000/svg\" height=\"24px\" viewBox=\"0 -960 960 960\">\n",
              "    <path d=\"M120-120v-720h720v720H120Zm60-500h600v-160H180v160Zm220 220h160v-160H400v160Zm0 220h160v-160H400v160ZM180-400h160v-160H180v160Zm440 0h160v-160H620v160ZM180-180h160v-160H180v160Zm440 0h160v-160H620v160Z\"/>\n",
              "  </svg>\n",
              "    </button>\n",
              "\n",
              "  <style>\n",
              "    .colab-df-container {\n",
              "      display:flex;\n",
              "      gap: 12px;\n",
              "    }\n",
              "\n",
              "    .colab-df-convert {\n",
              "      background-color: #E8F0FE;\n",
              "      border: none;\n",
              "      border-radius: 50%;\n",
              "      cursor: pointer;\n",
              "      display: none;\n",
              "      fill: #1967D2;\n",
              "      height: 32px;\n",
              "      padding: 0 0 0 0;\n",
              "      width: 32px;\n",
              "    }\n",
              "\n",
              "    .colab-df-convert:hover {\n",
              "      background-color: #E2EBFA;\n",
              "      box-shadow: 0px 1px 2px rgba(60, 64, 67, 0.3), 0px 1px 3px 1px rgba(60, 64, 67, 0.15);\n",
              "      fill: #174EA6;\n",
              "    }\n",
              "\n",
              "    .colab-df-buttons div {\n",
              "      margin-bottom: 4px;\n",
              "    }\n",
              "\n",
              "    [theme=dark] .colab-df-convert {\n",
              "      background-color: #3B4455;\n",
              "      fill: #D2E3FC;\n",
              "    }\n",
              "\n",
              "    [theme=dark] .colab-df-convert:hover {\n",
              "      background-color: #434B5C;\n",
              "      box-shadow: 0px 1px 3px 1px rgba(0, 0, 0, 0.15);\n",
              "      filter: drop-shadow(0px 1px 2px rgba(0, 0, 0, 0.3));\n",
              "      fill: #FFFFFF;\n",
              "    }\n",
              "  </style>\n",
              "\n",
              "    <script>\n",
              "      const buttonEl =\n",
              "        document.querySelector('#df-bcd3503c-557e-4b0f-8a63-21aba134f322 button.colab-df-convert');\n",
              "      buttonEl.style.display =\n",
              "        google.colab.kernel.accessAllowed ? 'block' : 'none';\n",
              "\n",
              "      async function convertToInteractive(key) {\n",
              "        const element = document.querySelector('#df-bcd3503c-557e-4b0f-8a63-21aba134f322');\n",
              "        const dataTable =\n",
              "          await google.colab.kernel.invokeFunction('convertToInteractive',\n",
              "                                                    [key], {});\n",
              "        if (!dataTable) return;\n",
              "\n",
              "        const docLinkHtml = 'Like what you see? Visit the ' +\n",
              "          '<a target=\"_blank\" href=https://colab.research.google.com/notebooks/data_table.ipynb>data table notebook</a>'\n",
              "          + ' to learn more about interactive tables.';\n",
              "        element.innerHTML = '';\n",
              "        dataTable['output_type'] = 'display_data';\n",
              "        await google.colab.output.renderOutput(dataTable, element);\n",
              "        const docLink = document.createElement('div');\n",
              "        docLink.innerHTML = docLinkHtml;\n",
              "        element.appendChild(docLink);\n",
              "      }\n",
              "    </script>\n",
              "  </div>\n",
              "\n",
              "\n",
              "<div id=\"df-c0fc7f3a-2c62-42d4-bc9f-988193e3f93a\">\n",
              "  <button class=\"colab-df-quickchart\" onclick=\"quickchart('df-c0fc7f3a-2c62-42d4-bc9f-988193e3f93a')\"\n",
              "            title=\"Suggest charts.\"\n",
              "            style=\"display:none;\">\n",
              "\n",
              "<svg xmlns=\"http://www.w3.org/2000/svg\" height=\"24px\"viewBox=\"0 0 24 24\"\n",
              "     width=\"24px\">\n",
              "    <g>\n",
              "        <path d=\"M19 3H5c-1.1 0-2 .9-2 2v14c0 1.1.9 2 2 2h14c1.1 0 2-.9 2-2V5c0-1.1-.9-2-2-2zM9 17H7v-7h2v7zm4 0h-2V7h2v10zm4 0h-2v-4h2v4z\"/>\n",
              "    </g>\n",
              "</svg>\n",
              "  </button>\n",
              "\n",
              "<style>\n",
              "  .colab-df-quickchart {\n",
              "      --bg-color: #E8F0FE;\n",
              "      --fill-color: #1967D2;\n",
              "      --hover-bg-color: #E2EBFA;\n",
              "      --hover-fill-color: #174EA6;\n",
              "      --disabled-fill-color: #AAA;\n",
              "      --disabled-bg-color: #DDD;\n",
              "  }\n",
              "\n",
              "  [theme=dark] .colab-df-quickchart {\n",
              "      --bg-color: #3B4455;\n",
              "      --fill-color: #D2E3FC;\n",
              "      --hover-bg-color: #434B5C;\n",
              "      --hover-fill-color: #FFFFFF;\n",
              "      --disabled-bg-color: #3B4455;\n",
              "      --disabled-fill-color: #666;\n",
              "  }\n",
              "\n",
              "  .colab-df-quickchart {\n",
              "    background-color: var(--bg-color);\n",
              "    border: none;\n",
              "    border-radius: 50%;\n",
              "    cursor: pointer;\n",
              "    display: none;\n",
              "    fill: var(--fill-color);\n",
              "    height: 32px;\n",
              "    padding: 0;\n",
              "    width: 32px;\n",
              "  }\n",
              "\n",
              "  .colab-df-quickchart:hover {\n",
              "    background-color: var(--hover-bg-color);\n",
              "    box-shadow: 0 1px 2px rgba(60, 64, 67, 0.3), 0 1px 3px 1px rgba(60, 64, 67, 0.15);\n",
              "    fill: var(--button-hover-fill-color);\n",
              "  }\n",
              "\n",
              "  .colab-df-quickchart-complete:disabled,\n",
              "  .colab-df-quickchart-complete:disabled:hover {\n",
              "    background-color: var(--disabled-bg-color);\n",
              "    fill: var(--disabled-fill-color);\n",
              "    box-shadow: none;\n",
              "  }\n",
              "\n",
              "  .colab-df-spinner {\n",
              "    border: 2px solid var(--fill-color);\n",
              "    border-color: transparent;\n",
              "    border-bottom-color: var(--fill-color);\n",
              "    animation:\n",
              "      spin 1s steps(1) infinite;\n",
              "  }\n",
              "\n",
              "  @keyframes spin {\n",
              "    0% {\n",
              "      border-color: transparent;\n",
              "      border-bottom-color: var(--fill-color);\n",
              "      border-left-color: var(--fill-color);\n",
              "    }\n",
              "    20% {\n",
              "      border-color: transparent;\n",
              "      border-left-color: var(--fill-color);\n",
              "      border-top-color: var(--fill-color);\n",
              "    }\n",
              "    30% {\n",
              "      border-color: transparent;\n",
              "      border-left-color: var(--fill-color);\n",
              "      border-top-color: var(--fill-color);\n",
              "      border-right-color: var(--fill-color);\n",
              "    }\n",
              "    40% {\n",
              "      border-color: transparent;\n",
              "      border-right-color: var(--fill-color);\n",
              "      border-top-color: var(--fill-color);\n",
              "    }\n",
              "    60% {\n",
              "      border-color: transparent;\n",
              "      border-right-color: var(--fill-color);\n",
              "    }\n",
              "    80% {\n",
              "      border-color: transparent;\n",
              "      border-right-color: var(--fill-color);\n",
              "      border-bottom-color: var(--fill-color);\n",
              "    }\n",
              "    90% {\n",
              "      border-color: transparent;\n",
              "      border-bottom-color: var(--fill-color);\n",
              "    }\n",
              "  }\n",
              "</style>\n",
              "\n",
              "  <script>\n",
              "    async function quickchart(key) {\n",
              "      const quickchartButtonEl =\n",
              "        document.querySelector('#' + key + ' button');\n",
              "      quickchartButtonEl.disabled = true;  // To prevent multiple clicks.\n",
              "      quickchartButtonEl.classList.add('colab-df-spinner');\n",
              "      try {\n",
              "        const charts = await google.colab.kernel.invokeFunction(\n",
              "            'suggestCharts', [key], {});\n",
              "      } catch (error) {\n",
              "        console.error('Error during call to suggestCharts:', error);\n",
              "      }\n",
              "      quickchartButtonEl.classList.remove('colab-df-spinner');\n",
              "      quickchartButtonEl.classList.add('colab-df-quickchart-complete');\n",
              "    }\n",
              "    (() => {\n",
              "      let quickchartButtonEl =\n",
              "        document.querySelector('#df-c0fc7f3a-2c62-42d4-bc9f-988193e3f93a button');\n",
              "      quickchartButtonEl.style.display =\n",
              "        google.colab.kernel.accessAllowed ? 'block' : 'none';\n",
              "    })();\n",
              "  </script>\n",
              "</div>\n",
              "    </div>\n",
              "  </div>\n"
            ]
          },
          "metadata": {},
          "execution_count": 22
        }
      ]
    },
    {
      "cell_type": "code",
      "source": [
        "data.info()"
      ],
      "metadata": {
        "id": "W5vdssYrkyzP",
        "colab": {
          "base_uri": "https://localhost:8080/"
        },
        "outputId": "3ef6f22e-e5d1-4745-bfd7-b5dd9da0309d"
      },
      "execution_count": null,
      "outputs": [
        {
          "output_type": "stream",
          "name": "stdout",
          "text": [
            "<class 'pandas.core.frame.DataFrame'>\n",
            "Int64Index: 72566 entries, 0 to 122661\n",
            "Data columns (total 17 columns):\n",
            " #   Column                  Non-Null Count  Dtype  \n",
            "---  ------                  --------------  -----  \n",
            " 0   App                     72566 non-null  object \n",
            " 1   Category                72566 non-null  object \n",
            " 2   Rating                  72566 non-null  float64\n",
            " 3   Reviews                 72566 non-null  float64\n",
            " 4   Size                    72566 non-null  float64\n",
            " 5   Installs                72566 non-null  int64  \n",
            " 6   Type                    72566 non-null  object \n",
            " 7   Price                   72566 non-null  float64\n",
            " 8   Content Rating          72566 non-null  object \n",
            " 9   Genres                  72566 non-null  object \n",
            " 10  Last Updated            72566 non-null  object \n",
            " 11  Current Ver             72566 non-null  object \n",
            " 12  Android Ver             72566 non-null  object \n",
            " 13  Translated_Review       72566 non-null  object \n",
            " 14  Sentiment               72566 non-null  object \n",
            " 15  Sentiment_Polarity      72566 non-null  float64\n",
            " 16  Sentiment_Subjectivity  72566 non-null  float64\n",
            "dtypes: float64(6), int64(1), object(10)\n",
            "memory usage: 10.0+ MB\n"
          ]
        }
      ]
    },
    {
      "cell_type": "markdown",
      "source": [
        "**Clean data by dropping rows with inappropriate values**"
      ],
      "metadata": {
        "id": "lfxrYXCoG4B8"
      }
    },
    {
      "cell_type": "code",
      "source": [
        "data.drop(data[(data['Reviews'] < 1) & (data['Reviews'] > 5 )].index, inplace = True)\n",
        "data.shape"
      ],
      "metadata": {
        "id": "Xwnv9oXIk45A",
        "colab": {
          "base_uri": "https://localhost:8080/"
        },
        "outputId": "ffbe5692-e111-4bc6-90c4-23565634caf6"
      },
      "execution_count": null,
      "outputs": [
        {
          "output_type": "execute_result",
          "data": {
            "text/plain": [
              "(72566, 17)"
            ]
          },
          "metadata": {},
          "execution_count": 24
        }
      ]
    },
    {
      "cell_type": "code",
      "source": [
        "data.drop(data[data['Installs'] < data['Reviews'] ].index, inplace = True)\n",
        "data.shape"
      ],
      "metadata": {
        "id": "KTwsXeIYk47q",
        "colab": {
          "base_uri": "https://localhost:8080/"
        },
        "outputId": "035ed089-2e1f-4f7d-a848-4d971c548968"
      },
      "execution_count": null,
      "outputs": [
        {
          "output_type": "execute_result",
          "data": {
            "text/plain": [
              "(72566, 17)"
            ]
          },
          "metadata": {},
          "execution_count": 25
        }
      ]
    },
    {
      "cell_type": "code",
      "source": [
        "data.drop(data[(data['Type'] =='Free') & (data['Price'] > 0 )].index, inplace = True)\n",
        "data.shape"
      ],
      "metadata": {
        "id": "1fjXOziBk49v",
        "colab": {
          "base_uri": "https://localhost:8080/"
        },
        "outputId": "3d1a868c-2dc7-487e-a3ec-141b3bd0d19a"
      },
      "execution_count": null,
      "outputs": [
        {
          "output_type": "execute_result",
          "data": {
            "text/plain": [
              "(72566, 17)"
            ]
          },
          "metadata": {},
          "execution_count": 26
        }
      ]
    },
    {
      "cell_type": "code",
      "source": [
        "data.drop(data[data['Price'] > 200].index, inplace = True)\n",
        "data.shape"
      ],
      "metadata": {
        "id": "7medozsNk_m1",
        "colab": {
          "base_uri": "https://localhost:8080/"
        },
        "outputId": "05e01735-aed0-4a58-df38-03f03cfe7564"
      },
      "execution_count": null,
      "outputs": [
        {
          "output_type": "execute_result",
          "data": {
            "text/plain": [
              "(72566, 17)"
            ]
          },
          "metadata": {},
          "execution_count": 27
        }
      ]
    },
    {
      "cell_type": "code",
      "source": [
        "data.drop(data[data['Reviews'] > 2000000].index, inplace = True)\n",
        "data.shape"
      ],
      "metadata": {
        "id": "FtDgszjok_pc",
        "colab": {
          "base_uri": "https://localhost:8080/"
        },
        "outputId": "c298bc2e-d59c-47f3-a66f-6c4a57c66458"
      },
      "execution_count": null,
      "outputs": [
        {
          "output_type": "execute_result",
          "data": {
            "text/plain": [
              "(56121, 17)"
            ]
          },
          "metadata": {},
          "execution_count": 28
        }
      ]
    },
    {
      "cell_type": "code",
      "source": [
        "data.drop(data[data['Installs'] > 10000000].index, inplace = True)\n",
        "data.shape"
      ],
      "metadata": {
        "id": "aJmqzFEmk_s2",
        "colab": {
          "base_uri": "https://localhost:8080/"
        },
        "outputId": "72ed92cd-5884-40e8-dc2a-2d77574c5b8b"
      },
      "execution_count": null,
      "outputs": [
        {
          "output_type": "execute_result",
          "data": {
            "text/plain": [
              "(44719, 17)"
            ]
          },
          "metadata": {},
          "execution_count": 29
        }
      ]
    },
    {
      "cell_type": "markdown",
      "source": [
        "**Visualizations**"
      ],
      "metadata": {
        "id": "FNOSySZfG_gc"
      }
    },
    {
      "cell_type": "code",
      "source": [
        "sns.set(rc={'figure.figsize':(12,8)})\n",
        "sns.boxplot(data['Price'])"
      ],
      "metadata": {
        "id": "43Po2Xiok_08",
        "colab": {
          "base_uri": "https://localhost:8080/",
          "height": 698
        },
        "outputId": "baad000a-3da0-4cac-b6f0-948ff9344233"
      },
      "execution_count": null,
      "outputs": [
        {
          "output_type": "execute_result",
          "data": {
            "text/plain": [
              "<Axes: >"
            ]
          },
          "metadata": {},
          "execution_count": 30
        },
        {
          "output_type": "display_data",
          "data": {
            "text/plain": [
              "<Figure size 1200x800 with 1 Axes>"
            ],
            "image/png": "[encoded data removed]"
          },
          "metadata": {}
        }
      ]
    },
    {
      "cell_type": "code",
      "source": [
        "sns.boxplot(data['Reviews'])"
      ],
      "metadata": {
        "id": "eCJb44OHk_3r",
        "colab": {
          "base_uri": "https://localhost:8080/",
          "height": 714
        },
        "outputId": "c7c69ce3-1129-441d-e900-92fa2fc63b41"
      },
      "execution_count": null,
      "outputs": [
        {
          "output_type": "execute_result",
          "data": {
            "text/plain": [
              "<Axes: >"
            ]
          },
          "metadata": {},
          "execution_count": 31
        },
        {
          "output_type": "display_data",
          "data": {
            "text/plain": [
              "<Figure size 1200x800 with 1 Axes>"
            ],
            "image/png": "[encoded data removed]"
          },
          "metadata": {}
        }
      ]
    },
    {
      "cell_type": "code",
      "source": [
        "sns.boxplot(data['Rating'])"
      ],
      "metadata": {
        "id": "15vP6RUBk_7F",
        "colab": {
          "base_uri": "https://localhost:8080/",
          "height": 700
        },
        "outputId": "2bb3048d-3236-4016-bf76-bb5ee7bf464d"
      },
      "execution_count": null,
      "outputs": [
        {
          "output_type": "execute_result",
          "data": {
            "text/plain": [
              "<Axes: >"
            ]
          },
          "metadata": {},
          "execution_count": 32
        },
        {
          "output_type": "display_data",
          "data": {
            "text/plain": [
              "<Figure size 1200x800 with 1 Axes>"
            ],
            "image/png": "[encoded data removed]"
          },
          "metadata": {}
        }
      ]
    },
    {
      "cell_type": "code",
      "source": [
        "sns.boxplot(data['Size'])"
      ],
      "metadata": {
        "id": "WOgpLiJalMor",
        "colab": {
          "base_uri": "https://localhost:8080/",
          "height": 698
        },
        "outputId": "c421e99e-3510-4feb-f31e-a195a14b6fe3"
      },
      "execution_count": null,
      "outputs": [
        {
          "output_type": "execute_result",
          "data": {
            "text/plain": [
              "<Axes: >"
            ]
          },
          "metadata": {},
          "execution_count": 33
        },
        {
          "output_type": "display_data",
          "data": {
            "text/plain": [
              "<Figure size 1200x800 with 1 Axes>"
            ],
            "image/png": "[encoded data removed]"
          },
          "metadata": {}
        }
      ]
    },
    {
      "cell_type": "code",
      "source": [
        "more = data.apply(lambda x : True\n",
        "            if x['Price'] > 200 else False, axis = 1)\n",
        "more_count = len(more[more == True].index)\n",
        "data.shape"
      ],
      "metadata": {
        "id": "PirQ4_bZlMrf",
        "colab": {
          "base_uri": "https://localhost:8080/"
        },
        "outputId": "eabd2d81-1ce2-4d0c-d0b7-906b58b07e07"
      },
      "execution_count": null,
      "outputs": [
        {
          "output_type": "execute_result",
          "data": {
            "text/plain": [
              "(44719, 17)"
            ]
          },
          "metadata": {},
          "execution_count": 34
        }
      ]
    },
    {
      "cell_type": "code",
      "source": [
        "data.drop(data[data['Price'] > 200].index, inplace = True)\n",
        "data.shape"
      ],
      "metadata": {
        "id": "SpTtjNK3lMur",
        "colab": {
          "base_uri": "https://localhost:8080/"
        },
        "outputId": "659b54dd-db4e-40e2-c2d9-828de6f2a7a3"
      },
      "execution_count": null,
      "outputs": [
        {
          "output_type": "execute_result",
          "data": {
            "text/plain": [
              "(44719, 17)"
            ]
          },
          "metadata": {},
          "execution_count": 35
        }
      ]
    },
    {
      "cell_type": "code",
      "source": [
        "data.drop(data[data['Reviews'] > 2000000].index, inplace = True)\n",
        "data.shape"
      ],
      "metadata": {
        "id": "hrzA3Sr5lMyP",
        "colab": {
          "base_uri": "https://localhost:8080/"
        },
        "outputId": "439c9ab5-d84d-4b3a-dbc4-4c63da69d233"
      },
      "execution_count": null,
      "outputs": [
        {
          "output_type": "execute_result",
          "data": {
            "text/plain": [
              "(44719, 17)"
            ]
          },
          "metadata": {},
          "execution_count": 36
        }
      ]
    },
    {
      "cell_type": "code",
      "source": [
        "numeric_columns = [\"Size\", \"Installs\", \"Price\"]\n",
        "quantiles = [0.1, 0.25, 0.5, 0.7, 0.9, 0.95, 0.99]\n",
        "\n",
        "quantile_data = data[numeric_columns].quantile(quantiles)\n",
        "\n",
        "print(quantile_data)"
      ],
      "metadata": {
        "id": "J1V_QDcJlWrB",
        "colab": {
          "base_uri": "https://localhost:8080/"
        },
        "outputId": "5d9a0742-75b8-46e8-d17c-bb41288d8ce8"
      },
      "execution_count": null,
      "outputs": [
        {
          "output_type": "stream",
          "name": "stdout",
          "text": [
            "         Size    Installs  Price\n",
            "0.10      0.0    100000.0    0.0\n",
            "0.25      0.0   1000000.0    0.0\n",
            "0.50  10000.0   5000000.0    0.0\n",
            "0.70  22000.0  10000000.0    0.0\n",
            "0.90  50000.0  10000000.0    0.0\n",
            "0.95  67000.0  10000000.0    0.0\n",
            "0.99  95000.0  10000000.0    0.0\n"
          ]
        }
      ]
    },
    {
      "cell_type": "markdown",
      "source": [
        "**Dropping more than 10000000 Installs value**"
      ],
      "metadata": {
        "id": "GEjeTqEYHInz"
      }
    },
    {
      "cell_type": "code",
      "source": [
        "data.drop(data[data['Installs'] > 10000000].index, inplace = True)\n",
        "data.shape"
      ],
      "metadata": {
        "id": "eZkewDhPlWvL",
        "colab": {
          "base_uri": "https://localhost:8080/"
        },
        "outputId": "7da2ea20-1316-468d-c135-79897b6acd08"
      },
      "execution_count": null,
      "outputs": [
        {
          "output_type": "execute_result",
          "data": {
            "text/plain": [
              "(44719, 17)"
            ]
          },
          "metadata": {},
          "execution_count": 38
        }
      ]
    },
    {
      "cell_type": "markdown",
      "source": [
        "**Scatter plots**"
      ],
      "metadata": {
        "id": "s0dY0icAHO7j"
      }
    },
    {
      "cell_type": "code",
      "source": [
        "sns.scatterplot(x='Rating',y='Price',data=data)\n",
        "#Paid apps are higher ratings comapred to free apps."
      ],
      "metadata": {
        "id": "-5htAsztlWyk",
        "colab": {
          "base_uri": "https://localhost:8080/",
          "height": 721
        },
        "outputId": "8774cf49-2358-4772-fb19-6f7246a24560"
      },
      "execution_count": null,
      "outputs": [
        {
          "output_type": "execute_result",
          "data": {
            "text/plain": [
              "<Axes: xlabel='Rating', ylabel='Price'>"
            ]
          },
          "metadata": {},
          "execution_count": 39
        },
        {
          "output_type": "display_data",
          "data": {
            "text/plain": [
              "<Figure size 1200x800 with 1 Axes>"
            ],
            "image/png": "[encoded data removed]"
          },
          "metadata": {}
        }
      ]
    },
    {
      "cell_type": "code",
      "source": [
        "sns.scatterplot(x='Rating',y='Size',data=data)\n",
        "#Heavier apps are rated better."
      ],
      "metadata": {
        "id": "HQG4PSk9k5BR",
        "colab": {
          "base_uri": "https://localhost:8080/",
          "height": 721
        },
        "outputId": "99e6c35e-5114-4e96-d825-77af533c2c14"
      },
      "execution_count": null,
      "outputs": [
        {
          "output_type": "execute_result",
          "data": {
            "text/plain": [
              "<Axes: xlabel='Rating', ylabel='Size'>"
            ]
          },
          "metadata": {},
          "execution_count": 40
        },
        {
          "output_type": "display_data",
          "data": {
            "text/plain": [
              "<Figure size 1200x800 with 1 Axes>"
            ],
            "image/png": "[encoded data removed]"
          },
          "metadata": {}
        }
      ]
    },
    {
      "cell_type": "code",
      "source": [
        "sns.scatterplot(x='Rating',y='Reviews',data=data)\n",
        "#More reviews makes app rating better."
      ],
      "metadata": {
        "id": "isK4zzVXlehJ",
        "colab": {
          "base_uri": "https://localhost:8080/",
          "height": 737
        },
        "outputId": "ba3b251e-80f8-4138-bf48-e7c5cd899779"
      },
      "execution_count": null,
      "outputs": [
        {
          "output_type": "execute_result",
          "data": {
            "text/plain": [
              "<Axes: xlabel='Rating', ylabel='Reviews'>"
            ]
          },
          "metadata": {},
          "execution_count": 41
        },
        {
          "output_type": "display_data",
          "data": {
            "text/plain": [
              "<Figure size 1200x800 with 1 Axes>"
            ],
            "image/png": "[encoded data removed]"
          },
          "metadata": {}
        }
      ]
    },
    {
      "cell_type": "markdown",
      "source": [
        "**Bar plots**"
      ],
      "metadata": {
        "id": "XS594VSCHW2r"
      }
    },
    {
      "cell_type": "code",
      "source": [
        "sns.barplot(x=\"Rating\", y=\"Content Rating\", data=data)\n",
        "#Apps categorized as \"Everyone\" tend to exhibit more unfavorable ratings when compared to other sections due to the presence of numerous outlier values. On the contrary, applications classified as \"18+\" generally showcase higher ratings."
      ],
      "metadata": {
        "id": "2etkmVX0leje",
        "colab": {
          "base_uri": "https://localhost:8080/",
          "height": 721
        },
        "outputId": "f97268f6-168a-43a3-aa2b-a3080add7079"
      },
      "execution_count": null,
      "outputs": [
        {
          "output_type": "execute_result",
          "data": {
            "text/plain": [
              "<Axes: xlabel='Rating', ylabel='Content Rating'>"
            ]
          },
          "metadata": {},
          "execution_count": 42
        },
        {
          "output_type": "display_data",
          "data": {
            "text/plain": [
              "<Figure size 1200x800 with 1 Axes>"
            ],
            "image/png": "[encoded data removed]"
          },
          "metadata": {}
        }
      ]
    },
    {
      "cell_type": "code",
      "source": [
        "sns.barplot(x=\"Rating\", y=\"Category\", data=data)\n",
        "#Events category has best ratings compare to others."
      ],
      "metadata": {
        "id": "ZjDGz9RMlmXC",
        "colab": {
          "base_uri": "https://localhost:8080/",
          "height": 721
        },
        "outputId": "789a93db-cb2b-4235-dc99-27f7752b24bb"
      },
      "execution_count": null,
      "outputs": [
        {
          "output_type": "execute_result",
          "data": {
            "text/plain": [
              "<Axes: xlabel='Rating', ylabel='Category'>"
            ]
          },
          "metadata": {},
          "execution_count": 43
        },
        {
          "output_type": "display_data",
          "data": {
            "text/plain": [
              "<Figure size 1200x800 with 1 Axes>"
            ],
            "image/png": "[encoded data removed]"
          },
          "metadata": {}
        }
      ]
    },
    {
      "cell_type": "markdown",
      "source": [
        "**Logarithmic transformation for skewed features**"
      ],
      "metadata": {
        "id": "ugkdrj9THc2-"
      }
    },
    {
      "cell_type": "code",
      "source": [
        "reviewskew = np.log1p(data['Reviews'])\n",
        "reviewskew.skew()"
      ],
      "metadata": {
        "id": "ToVEwr0NlmZs",
        "colab": {
          "base_uri": "https://localhost:8080/"
        },
        "outputId": "d7ca50b0-a7b2-4015-ff4d-4c94213dc513"
      },
      "execution_count": null,
      "outputs": [
        {
          "output_type": "execute_result",
          "data": {
            "text/plain": [
              "-0.4823308230098584"
            ]
          },
          "metadata": {},
          "execution_count": 44
        }
      ]
    },
    {
      "cell_type": "code",
      "source": [
        "data['Reviews'] = reviewskew\n",
        "installsskew = np.log1p(data['Installs'])\n",
        "data['Installs']"
      ],
      "metadata": {
        "id": "CBOVxxamlmch",
        "colab": {
          "base_uri": "https://localhost:8080/"
        },
        "outputId": "38517226-0341-4b3a-a194-4e9d201f3594"
      },
      "execution_count": null,
      "outputs": [
        {
          "output_type": "execute_result",
          "data": {
            "text/plain": [
              "0           500000\n",
              "1           500000\n",
              "2           500000\n",
              "4           500000\n",
              "5           500000\n",
              "            ...   \n",
              "122646    10000000\n",
              "122652    10000000\n",
              "122659    10000000\n",
              "122660    10000000\n",
              "122661    10000000\n",
              "Name: Installs, Length: 44719, dtype: int64"
            ]
          },
          "metadata": {},
          "execution_count": 45
        }
      ]
    },
    {
      "cell_type": "code",
      "source": [
        "installsskew.skew()"
      ],
      "metadata": {
        "id": "SS5Q6bsRlmh-",
        "colab": {
          "base_uri": "https://localhost:8080/"
        },
        "outputId": "780643f3-1138-4244-877f-b414c76a59d7"
      },
      "execution_count": null,
      "outputs": [
        {
          "output_type": "execute_result",
          "data": {
            "text/plain": [
              "-0.9557798581728003"
            ]
          },
          "metadata": {},
          "execution_count": 46
        }
      ]
    },
    {
      "cell_type": "markdown",
      "source": [
        "**Dummy encoding for categorical features**"
      ],
      "metadata": {
        "id": "ofrljfEyHmMP"
      }
    },
    {
      "cell_type": "code",
      "source": [
        "data_new = data\n",
        "data_new.Category = pd.Categorical(data_new.Category)\n",
        "x = data_new[['Category']]\n",
        "del data_new['Category']\n",
        "dummies = pd.get_dummies(x, prefix='Category')\n",
        "data_new = pd.concat([data_new, dummies], axis=1)\n",
        "data_new.head()"
      ],
      "metadata": {
        "id": "9YMiZyEDlmkp",
        "colab": {
          "base_uri": "https://localhost:8080/",
          "height": 446
        },
        "outputId": "394c0be2-4208-49dc-c7d2-c932086442f9"
      },
      "execution_count": null,
      "outputs": [
        {
          "output_type": "execute_result",
          "data": {
            "text/plain": [
              "                   App  Rating   Reviews     Size  Installs  Type  Price  \\\n",
              "0  Coloring book moana     3.9  6.875232  14000.0    500000  Free    0.0   \n",
              "1  Coloring book moana     3.9  6.875232  14000.0    500000  Free    0.0   \n",
              "2  Coloring book moana     3.9  6.875232  14000.0    500000  Free    0.0   \n",
              "4  Coloring book moana     3.9  6.875232  14000.0    500000  Free    0.0   \n",
              "5  Coloring book moana     3.9  6.875232  14000.0    500000  Free    0.0   \n",
              "\n",
              "  Content Rating                     Genres      Last Updated  ...  \\\n",
              "0       Everyone  Art & Design;Pretend Play  January 15, 2018  ...   \n",
              "1       Everyone  Art & Design;Pretend Play  January 15, 2018  ...   \n",
              "2       Everyone  Art & Design;Pretend Play  January 15, 2018  ...   \n",
              "4       Everyone  Art & Design;Pretend Play  January 15, 2018  ...   \n",
              "5       Everyone  Art & Design;Pretend Play  January 15, 2018  ...   \n",
              "\n",
              "  Category_PERSONALIZATION Category_PHOTOGRAPHY Category_PRODUCTIVITY  \\\n",
              "0                        0                    0                     0   \n",
              "1                        0                    0                     0   \n",
              "2                        0                    0                     0   \n",
              "4                        0                    0                     0   \n",
              "5                        0                    0                     0   \n",
              "\n",
              "  Category_SHOPPING  Category_SOCIAL  Category_SPORTS  Category_TOOLS  \\\n",
              "0                 0                0                0               0   \n",
              "1                 0                0                0               0   \n",
              "2                 0                0                0               0   \n",
              "4                 0                0                0               0   \n",
              "5                 0                0                0               0   \n",
              "\n",
              "   Category_TRAVEL_AND_LOCAL  Category_VIDEO_PLAYERS  Category_WEATHER  \n",
              "0                          0                       0                 0  \n",
              "1                          0                       0                 0  \n",
              "2                          0                       0                 0  \n",
              "4                          0                       0                 0  \n",
              "5                          0                       0                 0  \n",
              "\n",
              "[5 rows x 49 columns]"
            ],
            "text/html": [
              "\n",
              "  <div id=\"df-1e46a40c-b8c2-47e4-ac80-ac578249db7b\" class=\"colab-df-container\">\n",
              "    <div>\n",
              "<style scoped>\n",
              "    .dataframe tbody tr th:only-of-type {\n",
              "        vertical-align: middle;\n",
              "    }\n",
              "\n",
              "    .dataframe tbody tr th {\n",
              "        vertical-align: top;\n",
              "    }\n",
              "\n",
              "    .dataframe thead th {\n",
              "        text-align: right;\n",
              "    }\n",
              "</style>\n",
              "<table border=\"1\" class=\"dataframe\">\n",
              "  <thead>\n",
              "    <tr style=\"text-align: right;\">\n",
              "      <th></th>\n",
              "      <th>App</th>\n",
              "      <th>Rating</th>\n",
              "      <th>Reviews</th>\n",
              "      <th>Size</th>\n",
              "      <th>Installs</th>\n",
              "      <th>Type</th>\n",
              "      <th>Price</th>\n",
              "      <th>Content Rating</th>\n",
              "      <th>Genres</th>\n",
              "      <th>Last Updated</th>\n",
              "      <th>...</th>\n",
              "      <th>Category_PERSONALIZATION</th>\n",
              "      <th>Category_PHOTOGRAPHY</th>\n",
              "      <th>Category_PRODUCTIVITY</th>\n",
              "      <th>Category_SHOPPING</th>\n",
              "      <th>Category_SOCIAL</th>\n",
              "      <th>Category_SPORTS</th>\n",
              "      <th>Category_TOOLS</th>\n",
              "      <th>Category_TRAVEL_AND_LOCAL</th>\n",
              "      <th>Category_VIDEO_PLAYERS</th>\n",
              "      <th>Category_WEATHER</th>\n",
              "    </tr>\n",
              "  </thead>\n",
              "  <tbody>\n",
              "    <tr>\n",
              "      <th>0</th>\n",
              "      <td>Coloring book moana</td>\n",
              "      <td>3.9</td>\n",
              "      <td>6.875232</td>\n",
              "      <td>14000.0</td>\n",
              "      <td>500000</td>\n",
              "      <td>Free</td>\n",
              "      <td>0.0</td>\n",
              "      <td>Everyone</td>\n",
              "      <td>Art &amp; Design;Pretend Play</td>\n",
              "      <td>January 15, 2018</td>\n",
              "      <td>...</td>\n",
              "      <td>0</td>\n",
              "      <td>0</td>\n",
              "      <td>0</td>\n",
              "      <td>0</td>\n",
              "      <td>0</td>\n",
              "      <td>0</td>\n",
              "      <td>0</td>\n",
              "      <td>0</td>\n",
              "      <td>0</td>\n",
              "      <td>0</td>\n",
              "    </tr>\n",
              "    <tr>\n",
              "      <th>1</th>\n",
              "      <td>Coloring book moana</td>\n",
              "      <td>3.9</td>\n",
              "      <td>6.875232</td>\n",
              "      <td>14000.0</td>\n",
              "      <td>500000</td>\n",
              "      <td>Free</td>\n",
              "      <td>0.0</td>\n",
              "      <td>Everyone</td>\n",
              "      <td>Art &amp; Design;Pretend Play</td>\n",
              "      <td>January 15, 2018</td>\n",
              "      <td>...</td>\n",
              "      <td>0</td>\n",
              "      <td>0</td>\n",
              "      <td>0</td>\n",
              "      <td>0</td>\n",
              "      <td>0</td>\n",
              "      <td>0</td>\n",
              "      <td>0</td>\n",
              "      <td>0</td>\n",
              "      <td>0</td>\n",
              "      <td>0</td>\n",
              "    </tr>\n",
              "    <tr>\n",
              "      <th>2</th>\n",
              "      <td>Coloring book moana</td>\n",
              "      <td>3.9</td>\n",
              "      <td>6.875232</td>\n",
              "      <td>14000.0</td>\n",
              "      <td>500000</td>\n",
              "      <td>Free</td>\n",
              "      <td>0.0</td>\n",
              "      <td>Everyone</td>\n",
              "      <td>Art &amp; Design;Pretend Play</td>\n",
              "      <td>January 15, 2018</td>\n",
              "      <td>...</td>\n",
              "      <td>0</td>\n",
              "      <td>0</td>\n",
              "      <td>0</td>\n",
              "      <td>0</td>\n",
              "      <td>0</td>\n",
              "      <td>0</td>\n",
              "      <td>0</td>\n",
              "      <td>0</td>\n",
              "      <td>0</td>\n",
              "      <td>0</td>\n",
              "    </tr>\n",
              "    <tr>\n",
              "      <th>4</th>\n",
              "      <td>Coloring book moana</td>\n",
              "      <td>3.9</td>\n",
              "      <td>6.875232</td>\n",
              "      <td>14000.0</td>\n",
              "      <td>500000</td>\n",
              "      <td>Free</td>\n",
              "      <td>0.0</td>\n",
              "      <td>Everyone</td>\n",
              "      <td>Art &amp; Design;Pretend Play</td>\n",
              "      <td>January 15, 2018</td>\n",
              "      <td>...</td>\n",
              "      <td>0</td>\n",
              "      <td>0</td>\n",
              "      <td>0</td>\n",
              "      <td>0</td>\n",
              "      <td>0</td>\n",
              "      <td>0</td>\n",
              "      <td>0</td>\n",
              "      <td>0</td>\n",
              "      <td>0</td>\n",
              "      <td>0</td>\n",
              "    </tr>\n",
              "    <tr>\n",
              "      <th>5</th>\n",
              "      <td>Coloring book moana</td>\n",
              "      <td>3.9</td>\n",
              "      <td>6.875232</td>\n",
              "      <td>14000.0</td>\n",
              "      <td>500000</td>\n",
              "      <td>Free</td>\n",
              "      <td>0.0</td>\n",
              "      <td>Everyone</td>\n",
              "      <td>Art &amp; Design;Pretend Play</td>\n",
              "      <td>January 15, 2018</td>\n",
              "      <td>...</td>\n",
              "      <td>0</td>\n",
              "      <td>0</td>\n",
              "      <td>0</td>\n",
              "      <td>0</td>\n",
              "      <td>0</td>\n",
              "      <td>0</td>\n",
              "      <td>0</td>\n",
              "      <td>0</td>\n",
              "      <td>0</td>\n",
              "      <td>0</td>\n",
              "    </tr>\n",
              "  </tbody>\n",
              "</table>\n",
              "<p>5 rows × 49 columns</p>\n",
              "</div>\n",
              "    <div class=\"colab-df-buttons\">\n",
              "\n",
              "  <div class=\"colab-df-container\">\n",
              "    <button class=\"colab-df-convert\" onclick=\"convertToInteractive('df-1e46a40c-b8c2-47e4-ac80-ac578249db7b')\"\n",
              "            title=\"Convert this dataframe to an interactive table.\"\n",
              "            style=\"display:none;\">\n",
              "\n",
              "  <svg xmlns=\"http://www.w3.org/2000/svg\" height=\"24px\" viewBox=\"0 -960 960 960\">\n",
              "    <path d=\"M120-120v-720h720v720H120Zm60-500h600v-160H180v160Zm220 220h160v-160H400v160Zm0 220h160v-160H400v160ZM180-400h160v-160H180v160Zm440 0h160v-160H620v160ZM180-180h160v-160H180v160Zm440 0h160v-160H620v160Z\"/>\n",
              "  </svg>\n",
              "    </button>\n",
              "\n",
              "  <style>\n",
              "    .colab-df-container {\n",
              "      display:flex;\n",
              "      gap: 12px;\n",
              "    }\n",
              "\n",
              "    .colab-df-convert {\n",
              "      background-color: #E8F0FE;\n",
              "      border: none;\n",
              "      border-radius: 50%;\n",
              "      cursor: pointer;\n",
              "      display: none;\n",
              "      fill: #1967D2;\n",
              "      height: 32px;\n",
              "      padding: 0 0 0 0;\n",
              "      width: 32px;\n",
              "    }\n",
              "\n",
              "    .colab-df-convert:hover {\n",
              "      background-color: #E2EBFA;\n",
              "      box-shadow: 0px 1px 2px rgba(60, 64, 67, 0.3), 0px 1px 3px 1px rgba(60, 64, 67, 0.15);\n",
              "      fill: #174EA6;\n",
              "    }\n",
              "\n",
              "    .colab-df-buttons div {\n",
              "      margin-bottom: 4px;\n",
              "    }\n",
              "\n",
              "    [theme=dark] .colab-df-convert {\n",
              "      background-color: #3B4455;\n",
              "      fill: #D2E3FC;\n",
              "    }\n",
              "\n",
              "    [theme=dark] .colab-df-convert:hover {\n",
              "      background-color: #434B5C;\n",
              "      box-shadow: 0px 1px 3px 1px rgba(0, 0, 0, 0.15);\n",
              "      filter: drop-shadow(0px 1px 2px rgba(0, 0, 0, 0.3));\n",
              "      fill: #FFFFFF;\n",
              "    }\n",
              "  </style>\n",
              "\n",
              "    <script>\n",
              "      const buttonEl =\n",
              "        document.querySelector('#df-1e46a40c-b8c2-47e4-ac80-ac578249db7b button.colab-df-convert');\n",
              "      buttonEl.style.display =\n",
              "        google.colab.kernel.accessAllowed ? 'block' : 'none';\n",
              "\n",
              "      async function convertToInteractive(key) {\n",
              "        const element = document.querySelector('#df-1e46a40c-b8c2-47e4-ac80-ac578249db7b');\n",
              "        const dataTable =\n",
              "          await google.colab.kernel.invokeFunction('convertToInteractive',\n",
              "                                                    [key], {});\n",
              "        if (!dataTable) return;\n",
              "\n",
              "        const docLinkHtml = 'Like what you see? Visit the ' +\n",
              "          '<a target=\"_blank\" href=https://colab.research.google.com/notebooks/data_table.ipynb>data table notebook</a>'\n",
              "          + ' to learn more about interactive tables.';\n",
              "        element.innerHTML = '';\n",
              "        dataTable['output_type'] = 'display_data';\n",
              "        await google.colab.output.renderOutput(dataTable, element);\n",
              "        const docLink = document.createElement('div');\n",
              "        docLink.innerHTML = docLinkHtml;\n",
              "        element.appendChild(docLink);\n",
              "      }\n",
              "    </script>\n",
              "  </div>\n",
              "\n",
              "\n",
              "<div id=\"df-44eef6e7-86fa-4a44-9fc7-9e790c484617\">\n",
              "  <button class=\"colab-df-quickchart\" onclick=\"quickchart('df-44eef6e7-86fa-4a44-9fc7-9e790c484617')\"\n",
              "            title=\"Suggest charts.\"\n",
              "            style=\"display:none;\">\n",
              "\n",
              "<svg xmlns=\"http://www.w3.org/2000/svg\" height=\"24px\"viewBox=\"0 0 24 24\"\n",
              "     width=\"24px\">\n",
              "    <g>\n",
              "        <path d=\"M19 3H5c-1.1 0-2 .9-2 2v14c0 1.1.9 2 2 2h14c1.1 0 2-.9 2-2V5c0-1.1-.9-2-2-2zM9 17H7v-7h2v7zm4 0h-2V7h2v10zm4 0h-2v-4h2v4z\"/>\n",
              "    </g>\n",
              "</svg>\n",
              "  </button>\n",
              "\n",
              "<style>\n",
              "  .colab-df-quickchart {\n",
              "      --bg-color: #E8F0FE;\n",
              "      --fill-color: #1967D2;\n",
              "      --hover-bg-color: #E2EBFA;\n",
              "      --hover-fill-color: #174EA6;\n",
              "      --disabled-fill-color: #AAA;\n",
              "      --disabled-bg-color: #DDD;\n",
              "  }\n",
              "\n",
              "  [theme=dark] .colab-df-quickchart {\n",
              "      --bg-color: #3B4455;\n",
              "      --fill-color: #D2E3FC;\n",
              "      --hover-bg-color: #434B5C;\n",
              "      --hover-fill-color: #FFFFFF;\n",
              "      --disabled-bg-color: #3B4455;\n",
              "      --disabled-fill-color: #666;\n",
              "  }\n",
              "\n",
              "  .colab-df-quickchart {\n",
              "    background-color: var(--bg-color);\n",
              "    border: none;\n",
              "    border-radius: 50%;\n",
              "    cursor: pointer;\n",
              "    display: none;\n",
              "    fill: var(--fill-color);\n",
              "    height: 32px;\n",
              "    padding: 0;\n",
              "    width: 32px;\n",
              "  }\n",
              "\n",
              "  .colab-df-quickchart:hover {\n",
              "    background-color: var(--hover-bg-color);\n",
              "    box-shadow: 0 1px 2px rgba(60, 64, 67, 0.3), 0 1px 3px 1px rgba(60, 64, 67, 0.15);\n",
              "    fill: var(--button-hover-fill-color);\n",
              "  }\n",
              "\n",
              "  .colab-df-quickchart-complete:disabled,\n",
              "  .colab-df-quickchart-complete:disabled:hover {\n",
              "    background-color: var(--disabled-bg-color);\n",
              "    fill: var(--disabled-fill-color);\n",
              "    box-shadow: none;\n",
              "  }\n",
              "\n",
              "  .colab-df-spinner {\n",
              "    border: 2px solid var(--fill-color);\n",
              "    border-color: transparent;\n",
              "    border-bottom-color: var(--fill-color);\n",
              "    animation:\n",
              "      spin 1s steps(1) infinite;\n",
              "  }\n",
              "\n",
              "  @keyframes spin {\n",
              "    0% {\n",
              "      border-color: transparent;\n",
              "      border-bottom-color: var(--fill-color);\n",
              "      border-left-color: var(--fill-color);\n",
              "    }\n",
              "    20% {\n",
              "      border-color: transparent;\n",
              "      border-left-color: var(--fill-color);\n",
              "      border-top-color: var(--fill-color);\n",
              "    }\n",
              "    30% {\n",
              "      border-color: transparent;\n",
              "      border-left-color: var(--fill-color);\n",
              "      border-top-color: var(--fill-color);\n",
              "      border-right-color: var(--fill-color);\n",
              "    }\n",
              "    40% {\n",
              "      border-color: transparent;\n",
              "      border-right-color: var(--fill-color);\n",
              "      border-top-color: var(--fill-color);\n",
              "    }\n",
              "    60% {\n",
              "      border-color: transparent;\n",
              "      border-right-color: var(--fill-color);\n",
              "    }\n",
              "    80% {\n",
              "      border-color: transparent;\n",
              "      border-right-color: var(--fill-color);\n",
              "      border-bottom-color: var(--fill-color);\n",
              "    }\n",
              "    90% {\n",
              "      border-color: transparent;\n",
              "      border-bottom-color: var(--fill-color);\n",
              "    }\n",
              "  }\n",
              "</style>\n",
              "\n",
              "  <script>\n",
              "    async function quickchart(key) {\n",
              "      const quickchartButtonEl =\n",
              "        document.querySelector('#' + key + ' button');\n",
              "      quickchartButtonEl.disabled = true;  // To prevent multiple clicks.\n",
              "      quickchartButtonEl.classList.add('colab-df-spinner');\n",
              "      try {\n",
              "        const charts = await google.colab.kernel.invokeFunction(\n",
              "            'suggestCharts', [key], {});\n",
              "      } catch (error) {\n",
              "        console.error('Error during call to suggestCharts:', error);\n",
              "      }\n",
              "      quickchartButtonEl.classList.remove('colab-df-spinner');\n",
              "      quickchartButtonEl.classList.add('colab-df-quickchart-complete');\n",
              "    }\n",
              "    (() => {\n",
              "      let quickchartButtonEl =\n",
              "        document.querySelector('#df-44eef6e7-86fa-4a44-9fc7-9e790c484617 button');\n",
              "      quickchartButtonEl.style.display =\n",
              "        google.colab.kernel.accessAllowed ? 'block' : 'none';\n",
              "    })();\n",
              "  </script>\n",
              "</div>\n",
              "    </div>\n",
              "  </div>\n"
            ]
          },
          "metadata": {},
          "execution_count": 47
        }
      ]
    },
    {
      "cell_type": "markdown",
      "source": [
        "**Dummy encoding for another categorical feature \"Genres\"**"
      ],
      "metadata": {
        "id": "Iy7HXGBFHs7M"
      }
    },
    {
      "cell_type": "code",
      "source": [
        "data_new[\"Genres\"].unique()"
      ],
      "metadata": {
        "id": "_puFLzP4lmnN",
        "colab": {
          "base_uri": "https://localhost:8080/"
        },
        "outputId": "50cdcfc7-648b-4e85-9ba3-a497991e5309"
      },
      "execution_count": null,
      "outputs": [
        {
          "output_type": "execute_result",
          "data": {
            "text/plain": [
              "array(['Art & Design;Pretend Play', 'Art & Design',\n",
              "       'Art & Design;Creativity', 'Auto & Vehicles', 'Beauty',\n",
              "       'Books & Reference', 'Business', 'Communication', 'Comics',\n",
              "       'Dating', 'Education', 'Education;Education', 'Entertainment',\n",
              "       'Events', 'Finance', 'Food & Drink', 'Health & Fitness',\n",
              "       'House & Home', 'Libraries & Demo', 'Lifestyle', 'Casual',\n",
              "       'Puzzle;Brain Games', 'Arcade', 'Puzzle', 'Casual;Creativity',\n",
              "       'Board', 'Adventure', 'Role Playing', 'Action', 'Strategy',\n",
              "       'Simulation;Education', 'Simulation', 'Action;Action & Adventure',\n",
              "       'Casual;Brain Games', 'Simulation;Action & Adventure',\n",
              "       'Educational;Creativity', 'Educational;Education',\n",
              "       'Educational;Pretend Play', 'Racing;Action & Adventure',\n",
              "       'Entertainment;Music & Video', 'Educational;Brain Games',\n",
              "       'Casual;Action & Adventure', 'Education;Pretend Play',\n",
              "       'Simulation;Pretend Play', 'Sports;Action & Adventure',\n",
              "       'Role Playing;Action & Adventure', 'Board;Brain Games',\n",
              "       'Role Playing;Pretend Play', 'Casual;Pretend Play', 'Medical',\n",
              "       'Social', 'Shopping', 'Photography', 'Sports', 'Travel & Local',\n",
              "       'Travel & Local;Action & Adventure', 'Tools', 'Personalization',\n",
              "       'Productivity', 'Parenting;Education', 'Parenting',\n",
              "       'Parenting;Music & Video', 'Weather', 'Video Players & Editors',\n",
              "       'News & Magazines', 'Maps & Navigation'], dtype=object)"
            ]
          },
          "metadata": {},
          "execution_count": 48
        }
      ]
    },
    {
      "cell_type": "code",
      "source": [
        "lists = []\n",
        "for i in data_new.Genres.value_counts().index:\n",
        "    if data_new.Genres.value_counts()[i] < 20:\n",
        "        lists.append(i)\n",
        "data_new.Genres = ['Other' if i in lists else i for i in data_new.Genres]\n",
        "data_new.Genres = pd.Categorical(data_new['Genres'])\n",
        "x = data_new[[\"Genres\"]]\n",
        "del data_new['Genres']\n",
        "dummies = pd.get_dummies(x, prefix='Genres')\n",
        "data_new = pd.concat([data_new, dummies], axis=1)\n",
        "data_new"
      ],
      "metadata": {
        "id": "0CS5DHfilmp5",
        "colab": {
          "base_uri": "https://localhost:8080/",
          "height": 999
        },
        "outputId": "6a8f9887-e328-4532-8a5a-6e547ccaa4a3"
      },
      "execution_count": null,
      "outputs": [
        {
          "output_type": "execute_result",
          "data": {
            "text/plain": [
              "                                 App  Rating    Reviews     Size  Installs  \\\n",
              "0                Coloring book moana     3.9   6.875232  14000.0    500000   \n",
              "1                Coloring book moana     3.9   6.875232  14000.0    500000   \n",
              "2                Coloring book moana     3.9   6.875232  14000.0    500000   \n",
              "4                Coloring book moana     3.9   6.875232  14000.0    500000   \n",
              "5                Coloring book moana     3.9   6.875232  14000.0    500000   \n",
              "...                              ...     ...        ...      ...       ...   \n",
              "122646  A+ Gallery - Photos & Videos     4.5  12.319142      0.0  10000000   \n",
              "122652  A+ Gallery - Photos & Videos     4.5  12.319142      0.0  10000000   \n",
              "122659  A+ Gallery - Photos & Videos     4.5  12.319142      0.0  10000000   \n",
              "122660  A+ Gallery - Photos & Videos     4.5  12.319142      0.0  10000000   \n",
              "122661  A+ Gallery - Photos & Videos     4.5  12.319142      0.0  10000000   \n",
              "\n",
              "        Type  Price Content Rating      Last Updated         Current Ver  ...  \\\n",
              "0       Free    0.0       Everyone  January 15, 2018               2.0.0  ...   \n",
              "1       Free    0.0       Everyone  January 15, 2018               2.0.0  ...   \n",
              "2       Free    0.0       Everyone  January 15, 2018               2.0.0  ...   \n",
              "4       Free    0.0       Everyone  January 15, 2018               2.0.0  ...   \n",
              "5       Free    0.0       Everyone  January 15, 2018               2.0.0  ...   \n",
              "...      ...    ...            ...               ...                 ...  ...   \n",
              "122646  Free    0.0       Everyone    August 6, 2018  Varies with device  ...   \n",
              "122652  Free    0.0       Everyone    August 6, 2018  Varies with device  ...   \n",
              "122659  Free    0.0       Everyone    August 6, 2018  Varies with device  ...   \n",
              "122660  Free    0.0       Everyone    August 6, 2018  Varies with device  ...   \n",
              "122661  Free    0.0       Everyone    August 6, 2018  Varies with device  ...   \n",
              "\n",
              "       Genres_Simulation;Action & Adventure Genres_Simulation;Education  \\\n",
              "0                                         0                           0   \n",
              "1                                         0                           0   \n",
              "2                                         0                           0   \n",
              "4                                         0                           0   \n",
              "5                                         0                           0   \n",
              "...                                     ...                         ...   \n",
              "122646                                    0                           0   \n",
              "122652                                    0                           0   \n",
              "122659                                    0                           0   \n",
              "122660                                    0                           0   \n",
              "122661                                    0                           0   \n",
              "\n",
              "       Genres_Social  Genres_Sports  Genres_Sports;Action & Adventure  \\\n",
              "0                  0              0                                 0   \n",
              "1                  0              0                                 0   \n",
              "2                  0              0                                 0   \n",
              "4                  0              0                                 0   \n",
              "5                  0              0                                 0   \n",
              "...              ...            ...                               ...   \n",
              "122646             0              0                                 0   \n",
              "122652             0              0                                 0   \n",
              "122659             0              0                                 0   \n",
              "122660             0              0                                 0   \n",
              "122661             0              0                                 0   \n",
              "\n",
              "        Genres_Strategy  Genres_Tools  Genres_Travel & Local  \\\n",
              "0                     0             0                      0   \n",
              "1                     0             0                      0   \n",
              "2                     0             0                      0   \n",
              "4                     0             0                      0   \n",
              "5                     0             0                      0   \n",
              "...                 ...           ...                    ...   \n",
              "122646                0             0                      0   \n",
              "122652                0             0                      0   \n",
              "122659                0             0                      0   \n",
              "122660                0             0                      0   \n",
              "122661                0             0                      0   \n",
              "\n",
              "        Genres_Video Players & Editors  Genres_Weather  \n",
              "0                                    0               0  \n",
              "1                                    0               0  \n",
              "2                                    0               0  \n",
              "4                                    0               0  \n",
              "5                                    0               0  \n",
              "...                                ...             ...  \n",
              "122646                               0               0  \n",
              "122652                               0               0  \n",
              "122659                               0               0  \n",
              "122660                               0               0  \n",
              "122661                               0               0  \n",
              "\n",
              "[44719 rows x 112 columns]"
            ],
            "text/html": [
              "\n",
              "  <div id=\"df-2e79a84f-6b16-4e19-a995-52fcc5270fbc\" class=\"colab-df-container\">\n",
              "    <div>\n",
              "<style scoped>\n",
              "    .dataframe tbody tr th:only-of-type {\n",
              "        vertical-align: middle;\n",
              "    }\n",
              "\n",
              "    .dataframe tbody tr th {\n",
              "        vertical-align: top;\n",
              "    }\n",
              "\n",
              "    .dataframe thead th {\n",
              "        text-align: right;\n",
              "    }\n",
              "</style>\n",
              "<table border=\"1\" class=\"dataframe\">\n",
              "  <thead>\n",
              "    <tr style=\"text-align: right;\">\n",
              "      <th></th>\n",
              "      <th>App</th>\n",
              "      <th>Rating</th>\n",
              "      <th>Reviews</th>\n",
              "      <th>Size</th>\n",
              "      <th>Installs</th>\n",
              "      <th>Type</th>\n",
              "      <th>Price</th>\n",
              "      <th>Content Rating</th>\n",
              "      <th>Last Updated</th>\n",
              "      <th>Current Ver</th>\n",
              "      <th>...</th>\n",
              "      <th>Genres_Simulation;Action &amp; Adventure</th>\n",
              "      <th>Genres_Simulation;Education</th>\n",
              "      <th>Genres_Social</th>\n",
              "      <th>Genres_Sports</th>\n",
              "      <th>Genres_Sports;Action &amp; Adventure</th>\n",
              "      <th>Genres_Strategy</th>\n",
              "      <th>Genres_Tools</th>\n",
              "      <th>Genres_Travel &amp; Local</th>\n",
              "      <th>Genres_Video Players &amp; Editors</th>\n",
              "      <th>Genres_Weather</th>\n",
              "    </tr>\n",
              "  </thead>\n",
              "  <tbody>\n",
              "    <tr>\n",
              "      <th>0</th>\n",
              "      <td>Coloring book moana</td>\n",
              "      <td>3.9</td>\n",
              "      <td>6.875232</td>\n",
              "      <td>14000.0</td>\n",
              "      <td>500000</td>\n",
              "      <td>Free</td>\n",
              "      <td>0.0</td>\n",
              "      <td>Everyone</td>\n",
              "      <td>January 15, 2018</td>\n",
              "      <td>2.0.0</td>\n",
              "      <td>...</td>\n",
              "      <td>0</td>\n",
              "      <td>0</td>\n",
              "      <td>0</td>\n",
              "      <td>0</td>\n",
              "      <td>0</td>\n",
              "      <td>0</td>\n",
              "      <td>0</td>\n",
              "      <td>0</td>\n",
              "      <td>0</td>\n",
              "      <td>0</td>\n",
              "    </tr>\n",
              "    <tr>\n",
              "      <th>1</th>\n",
              "      <td>Coloring book moana</td>\n",
              "      <td>3.9</td>\n",
              "      <td>6.875232</td>\n",
              "      <td>14000.0</td>\n",
              "      <td>500000</td>\n",
              "      <td>Free</td>\n",
              "      <td>0.0</td>\n",
              "      <td>Everyone</td>\n",
              "      <td>January 15, 2018</td>\n",
              "      <td>2.0.0</td>\n",
              "      <td>...</td>\n",
              "      <td>0</td>\n",
              "      <td>0</td>\n",
              "      <td>0</td>\n",
              "      <td>0</td>\n",
              "      <td>0</td>\n",
              "      <td>0</td>\n",
              "      <td>0</td>\n",
              "      <td>0</td>\n",
              "      <td>0</td>\n",
              "      <td>0</td>\n",
              "    </tr>\n",
              "    <tr>\n",
              "      <th>2</th>\n",
              "      <td>Coloring book moana</td>\n",
              "      <td>3.9</td>\n",
              "      <td>6.875232</td>\n",
              "      <td>14000.0</td>\n",
              "      <td>500000</td>\n",
              "      <td>Free</td>\n",
              "      <td>0.0</td>\n",
              "      <td>Everyone</td>\n",
              "      <td>January 15, 2018</td>\n",
              "      <td>2.0.0</td>\n",
              "      <td>...</td>\n",
              "      <td>0</td>\n",
              "      <td>0</td>\n",
              "      <td>0</td>\n",
              "      <td>0</td>\n",
              "      <td>0</td>\n",
              "      <td>0</td>\n",
              "      <td>0</td>\n",
              "      <td>0</td>\n",
              "      <td>0</td>\n",
              "      <td>0</td>\n",
              "    </tr>\n",
              "    <tr>\n",
              "      <th>4</th>\n",
              "      <td>Coloring book moana</td>\n",
              "      <td>3.9</td>\n",
              "      <td>6.875232</td>\n",
              "      <td>14000.0</td>\n",
              "      <td>500000</td>\n",
              "      <td>Free</td>\n",
              "      <td>0.0</td>\n",
              "      <td>Everyone</td>\n",
              "      <td>January 15, 2018</td>\n",
              "      <td>2.0.0</td>\n",
              "      <td>...</td>\n",
              "      <td>0</td>\n",
              "      <td>0</td>\n",
              "      <td>0</td>\n",
              "      <td>0</td>\n",
              "      <td>0</td>\n",
              "      <td>0</td>\n",
              "      <td>0</td>\n",
              "      <td>0</td>\n",
              "      <td>0</td>\n",
              "      <td>0</td>\n",
              "    </tr>\n",
              "    <tr>\n",
              "      <th>5</th>\n",
              "      <td>Coloring book moana</td>\n",
              "      <td>3.9</td>\n",
              "      <td>6.875232</td>\n",
              "      <td>14000.0</td>\n",
              "      <td>500000</td>\n",
              "      <td>Free</td>\n",
              "      <td>0.0</td>\n",
              "      <td>Everyone</td>\n",
              "      <td>January 15, 2018</td>\n",
              "      <td>2.0.0</td>\n",
              "      <td>...</td>\n",
              "      <td>0</td>\n",
              "      <td>0</td>\n",
              "      <td>0</td>\n",
              "      <td>0</td>\n",
              "      <td>0</td>\n",
              "      <td>0</td>\n",
              "      <td>0</td>\n",
              "      <td>0</td>\n",
              "      <td>0</td>\n",
              "      <td>0</td>\n",
              "    </tr>\n",
              "    <tr>\n",
              "      <th>...</th>\n",
              "      <td>...</td>\n",
              "      <td>...</td>\n",
              "      <td>...</td>\n",
              "      <td>...</td>\n",
              "      <td>...</td>\n",
              "      <td>...</td>\n",
              "      <td>...</td>\n",
              "      <td>...</td>\n",
              "      <td>...</td>\n",
              "      <td>...</td>\n",
              "      <td>...</td>\n",
              "      <td>...</td>\n",
              "      <td>...</td>\n",
              "      <td>...</td>\n",
              "      <td>...</td>\n",
              "      <td>...</td>\n",
              "      <td>...</td>\n",
              "      <td>...</td>\n",
              "      <td>...</td>\n",
              "      <td>...</td>\n",
              "      <td>...</td>\n",
              "    </tr>\n",
              "    <tr>\n",
              "      <th>122646</th>\n",
              "      <td>A+ Gallery - Photos &amp; Videos</td>\n",
              "      <td>4.5</td>\n",
              "      <td>12.319142</td>\n",
              "      <td>0.0</td>\n",
              "      <td>10000000</td>\n",
              "      <td>Free</td>\n",
              "      <td>0.0</td>\n",
              "      <td>Everyone</td>\n",
              "      <td>August 6, 2018</td>\n",
              "      <td>Varies with device</td>\n",
              "      <td>...</td>\n",
              "      <td>0</td>\n",
              "      <td>0</td>\n",
              "      <td>0</td>\n",
              "      <td>0</td>\n",
              "      <td>0</td>\n",
              "      <td>0</td>\n",
              "      <td>0</td>\n",
              "      <td>0</td>\n",
              "      <td>0</td>\n",
              "      <td>0</td>\n",
              "    </tr>\n",
              "    <tr>\n",
              "      <th>122652</th>\n",
              "      <td>A+ Gallery - Photos &amp; Videos</td>\n",
              "      <td>4.5</td>\n",
              "      <td>12.319142</td>\n",
              "      <td>0.0</td>\n",
              "      <td>10000000</td>\n",
              "      <td>Free</td>\n",
              "      <td>0.0</td>\n",
              "      <td>Everyone</td>\n",
              "      <td>August 6, 2018</td>\n",
              "      <td>Varies with device</td>\n",
              "      <td>...</td>\n",
              "      <td>0</td>\n",
              "      <td>0</td>\n",
              "      <td>0</td>\n",
              "      <td>0</td>\n",
              "      <td>0</td>\n",
              "      <td>0</td>\n",
              "      <td>0</td>\n",
              "      <td>0</td>\n",
              "      <td>0</td>\n",
              "      <td>0</td>\n",
              "    </tr>\n",
              "    <tr>\n",
              "      <th>122659</th>\n",
              "      <td>A+ Gallery - Photos &amp; Videos</td>\n",
              "      <td>4.5</td>\n",
              "      <td>12.319142</td>\n",
              "      <td>0.0</td>\n",
              "      <td>10000000</td>\n",
              "      <td>Free</td>\n",
              "      <td>0.0</td>\n",
              "      <td>Everyone</td>\n",
              "      <td>August 6, 2018</td>\n",
              "      <td>Varies with device</td>\n",
              "      <td>...</td>\n",
              "      <td>0</td>\n",
              "      <td>0</td>\n",
              "      <td>0</td>\n",
              "      <td>0</td>\n",
              "      <td>0</td>\n",
              "      <td>0</td>\n",
              "      <td>0</td>\n",
              "      <td>0</td>\n",
              "      <td>0</td>\n",
              "      <td>0</td>\n",
              "    </tr>\n",
              "    <tr>\n",
              "      <th>122660</th>\n",
              "      <td>A+ Gallery - Photos &amp; Videos</td>\n",
              "      <td>4.5</td>\n",
              "      <td>12.319142</td>\n",
              "      <td>0.0</td>\n",
              "      <td>10000000</td>\n",
              "      <td>Free</td>\n",
              "      <td>0.0</td>\n",
              "      <td>Everyone</td>\n",
              "      <td>August 6, 2018</td>\n",
              "      <td>Varies with device</td>\n",
              "      <td>...</td>\n",
              "      <td>0</td>\n",
              "      <td>0</td>\n",
              "      <td>0</td>\n",
              "      <td>0</td>\n",
              "      <td>0</td>\n",
              "      <td>0</td>\n",
              "      <td>0</td>\n",
              "      <td>0</td>\n",
              "      <td>0</td>\n",
              "      <td>0</td>\n",
              "    </tr>\n",
              "    <tr>\n",
              "      <th>122661</th>\n",
              "      <td>A+ Gallery - Photos &amp; Videos</td>\n",
              "      <td>4.5</td>\n",
              "      <td>12.319142</td>\n",
              "      <td>0.0</td>\n",
              "      <td>10000000</td>\n",
              "      <td>Free</td>\n",
              "      <td>0.0</td>\n",
              "      <td>Everyone</td>\n",
              "      <td>August 6, 2018</td>\n",
              "      <td>Varies with device</td>\n",
              "      <td>...</td>\n",
              "      <td>0</td>\n",
              "      <td>0</td>\n",
              "      <td>0</td>\n",
              "      <td>0</td>\n",
              "      <td>0</td>\n",
              "      <td>0</td>\n",
              "      <td>0</td>\n",
              "      <td>0</td>\n",
              "      <td>0</td>\n",
              "      <td>0</td>\n",
              "    </tr>\n",
              "  </tbody>\n",
              "</table>\n",
              "<p>44719 rows × 112 columns</p>\n",
              "</div>\n",
              "    <div class=\"colab-df-buttons\">\n",
              "\n",
              "  <div class=\"colab-df-container\">\n",
              "    <button class=\"colab-df-convert\" onclick=\"convertToInteractive('df-2e79a84f-6b16-4e19-a995-52fcc5270fbc')\"\n",
              "            title=\"Convert this dataframe to an interactive table.\"\n",
              "            style=\"display:none;\">\n",
              "\n",
              "  <svg xmlns=\"http://www.w3.org/2000/svg\" height=\"24px\" viewBox=\"0 -960 960 960\">\n",
              "    <path d=\"M120-120v-720h720v720H120Zm60-500h600v-160H180v160Zm220 220h160v-160H400v160Zm0 220h160v-160H400v160ZM180-400h160v-160H180v160Zm440 0h160v-160H620v160ZM180-180h160v-160H180v160Zm440 0h160v-160H620v160Z\"/>\n",
              "  </svg>\n",
              "    </button>\n",
              "\n",
              "  <style>\n",
              "    .colab-df-container {\n",
              "      display:flex;\n",
              "      gap: 12px;\n",
              "    }\n",
              "\n",
              "    .colab-df-convert {\n",
              "      background-color: #E8F0FE;\n",
              "      border: none;\n",
              "      border-radius: 50%;\n",
              "      cursor: pointer;\n",
              "      display: none;\n",
              "      fill: #1967D2;\n",
              "      height: 32px;\n",
              "      padding: 0 0 0 0;\n",
              "      width: 32px;\n",
              "    }\n",
              "\n",
              "    .colab-df-convert:hover {\n",
              "      background-color: #E2EBFA;\n",
              "      box-shadow: 0px 1px 2px rgba(60, 64, 67, 0.3), 0px 1px 3px 1px rgba(60, 64, 67, 0.15);\n",
              "      fill: #174EA6;\n",
              "    }\n",
              "\n",
              "    .colab-df-buttons div {\n",
              "      margin-bottom: 4px;\n",
              "    }\n",
              "\n",
              "    [theme=dark] .colab-df-convert {\n",
              "      background-color: #3B4455;\n",
              "      fill: #D2E3FC;\n",
              "    }\n",
              "\n",
              "    [theme=dark] .colab-df-convert:hover {\n",
              "      background-color: #434B5C;\n",
              "      box-shadow: 0px 1px 3px 1px rgba(0, 0, 0, 0.15);\n",
              "      filter: drop-shadow(0px 1px 2px rgba(0, 0, 0, 0.3));\n",
              "      fill: #FFFFFF;\n",
              "    }\n",
              "  </style>\n",
              "\n",
              "    <script>\n",
              "      const buttonEl =\n",
              "        document.querySelector('#df-2e79a84f-6b16-4e19-a995-52fcc5270fbc button.colab-df-convert');\n",
              "      buttonEl.style.display =\n",
              "        google.colab.kernel.accessAllowed ? 'block' : 'none';\n",
              "\n",
              "      async function convertToInteractive(key) {\n",
              "        const element = document.querySelector('#df-2e79a84f-6b16-4e19-a995-52fcc5270fbc');\n",
              "        const dataTable =\n",
              "          await google.colab.kernel.invokeFunction('convertToInteractive',\n",
              "                                                    [key], {});\n",
              "        if (!dataTable) return;\n",
              "\n",
              "        const docLinkHtml = 'Like what you see? Visit the ' +\n",
              "          '<a target=\"_blank\" href=https://colab.research.google.com/notebooks/data_table.ipynb>data table notebook</a>'\n",
              "          + ' to learn more about interactive tables.';\n",
              "        element.innerHTML = '';\n",
              "        dataTable['output_type'] = 'display_data';\n",
              "        await google.colab.output.renderOutput(dataTable, element);\n",
              "        const docLink = document.createElement('div');\n",
              "        docLink.innerHTML = docLinkHtml;\n",
              "        element.appendChild(docLink);\n",
              "      }\n",
              "    </script>\n",
              "  </div>\n",
              "\n",
              "\n",
              "<div id=\"df-830f6cff-0db5-4ed1-86bc-ed774d5c9374\">\n",
              "  <button class=\"colab-df-quickchart\" onclick=\"quickchart('df-830f6cff-0db5-4ed1-86bc-ed774d5c9374')\"\n",
              "            title=\"Suggest charts.\"\n",
              "            style=\"display:none;\">\n",
              "\n",
              "<svg xmlns=\"http://www.w3.org/2000/svg\" height=\"24px\"viewBox=\"0 0 24 24\"\n",
              "     width=\"24px\">\n",
              "    <g>\n",
              "        <path d=\"M19 3H5c-1.1 0-2 .9-2 2v14c0 1.1.9 2 2 2h14c1.1 0 2-.9 2-2V5c0-1.1-.9-2-2-2zM9 17H7v-7h2v7zm4 0h-2V7h2v10zm4 0h-2v-4h2v4z\"/>\n",
              "    </g>\n",
              "</svg>\n",
              "  </button>\n",
              "\n",
              "<style>\n",
              "  .colab-df-quickchart {\n",
              "      --bg-color: #E8F0FE;\n",
              "      --fill-color: #1967D2;\n",
              "      --hover-bg-color: #E2EBFA;\n",
              "      --hover-fill-color: #174EA6;\n",
              "      --disabled-fill-color: #AAA;\n",
              "      --disabled-bg-color: #DDD;\n",
              "  }\n",
              "\n",
              "  [theme=dark] .colab-df-quickchart {\n",
              "      --bg-color: #3B4455;\n",
              "      --fill-color: #D2E3FC;\n",
              "      --hover-bg-color: #434B5C;\n",
              "      --hover-fill-color: #FFFFFF;\n",
              "      --disabled-bg-color: #3B4455;\n",
              "      --disabled-fill-color: #666;\n",
              "  }\n",
              "\n",
              "  .colab-df-quickchart {\n",
              "    background-color: var(--bg-color);\n",
              "    border: none;\n",
              "    border-radius: 50%;\n",
              "    cursor: pointer;\n",
              "    display: none;\n",
              "    fill: var(--fill-color);\n",
              "    height: 32px;\n",
              "    padding: 0;\n",
              "    width: 32px;\n",
              "  }\n",
              "\n",
              "  .colab-df-quickchart:hover {\n",
              "    background-color: var(--hover-bg-color);\n",
              "    box-shadow: 0 1px 2px rgba(60, 64, 67, 0.3), 0 1px 3px 1px rgba(60, 64, 67, 0.15);\n",
              "    fill: var(--button-hover-fill-color);\n",
              "  }\n",
              "\n",
              "  .colab-df-quickchart-complete:disabled,\n",
              "  .colab-df-quickchart-complete:disabled:hover {\n",
              "    background-color: var(--disabled-bg-color);\n",
              "    fill: var(--disabled-fill-color);\n",
              "    box-shadow: none;\n",
              "  }\n",
              "\n",
              "  .colab-df-spinner {\n",
              "    border: 2px solid var(--fill-color);\n",
              "    border-color: transparent;\n",
              "    border-bottom-color: var(--fill-color);\n",
              "    animation:\n",
              "      spin 1s steps(1) infinite;\n",
              "  }\n",
              "\n",
              "  @keyframes spin {\n",
              "    0% {\n",
              "      border-color: transparent;\n",
              "      border-bottom-color: var(--fill-color);\n",
              "      border-left-color: var(--fill-color);\n",
              "    }\n",
              "    20% {\n",
              "      border-color: transparent;\n",
              "      border-left-color: var(--fill-color);\n",
              "      border-top-color: var(--fill-color);\n",
              "    }\n",
              "    30% {\n",
              "      border-color: transparent;\n",
              "      border-left-color: var(--fill-color);\n",
              "      border-top-color: var(--fill-color);\n",
              "      border-right-color: var(--fill-color);\n",
              "    }\n",
              "    40% {\n",
              "      border-color: transparent;\n",
              "      border-right-color: var(--fill-color);\n",
              "      border-top-color: var(--fill-color);\n",
              "    }\n",
              "    60% {\n",
              "      border-color: transparent;\n",
              "      border-right-color: var(--fill-color);\n",
              "    }\n",
              "    80% {\n",
              "      border-color: transparent;\n",
              "      border-right-color: var(--fill-color);\n",
              "      border-bottom-color: var(--fill-color);\n",
              "    }\n",
              "    90% {\n",
              "      border-color: transparent;\n",
              "      border-bottom-color: var(--fill-color);\n",
              "    }\n",
              "  }\n",
              "</style>\n",
              "\n",
              "  <script>\n",
              "    async function quickchart(key) {\n",
              "      const quickchartButtonEl =\n",
              "        document.querySelector('#' + key + ' button');\n",
              "      quickchartButtonEl.disabled = true;  // To prevent multiple clicks.\n",
              "      quickchartButtonEl.classList.add('colab-df-spinner');\n",
              "      try {\n",
              "        const charts = await google.colab.kernel.invokeFunction(\n",
              "            'suggestCharts', [key], {});\n",
              "      } catch (error) {\n",
              "        console.error('Error during call to suggestCharts:', error);\n",
              "      }\n",
              "      quickchartButtonEl.classList.remove('colab-df-spinner');\n",
              "      quickchartButtonEl.classList.add('colab-df-quickchart-complete');\n",
              "    }\n",
              "    (() => {\n",
              "      let quickchartButtonEl =\n",
              "        document.querySelector('#df-830f6cff-0db5-4ed1-86bc-ed774d5c9374 button');\n",
              "      quickchartButtonEl.style.display =\n",
              "        google.colab.kernel.accessAllowed ? 'block' : 'none';\n",
              "    })();\n",
              "  </script>\n",
              "</div>\n",
              "    </div>\n",
              "  </div>\n"
            ]
          },
          "metadata": {},
          "execution_count": 49
        }
      ]
    },
    {
      "cell_type": "markdown",
      "source": [
        "**Dummy encoding for \"Content Rating\"**"
      ],
      "metadata": {
        "id": "FguCaH5QHz18"
      }
    },
    {
      "cell_type": "code",
      "source": [
        "data_new['Content Rating'] = pd.Categorical(data_new['Content Rating'])\n",
        "x = data_new[['Content Rating']]\n",
        "del data_new['Content Rating']\n",
        "dummies = pd.get_dummies(x, prefix='Content Rating')\n",
        "data_new = pd.concat([data_new, dummies], axis=1)"
      ],
      "metadata": {
        "id": "wp6k_TVSlmsX"
      },
      "execution_count": null,
      "outputs": []
    },
    {
      "cell_type": "markdown",
      "source": [
        "**Model Building and Evaluation**\n"
      ],
      "metadata": {
        "id": "67irmtfGH_Hq"
      }
    },
    {
      "cell_type": "code",
      "source": [
        "d1 = data_new\n",
        "X = d1.drop('Rating', axis=1)\n",
        "y = d1['Rating']"
      ],
      "metadata": {
        "id": "PQd-R0nklmv8"
      },
      "execution_count": null,
      "outputs": []
    },
    {
      "cell_type": "markdown",
      "source": [
        "**Drop non-numeric columns and rows with missing values**"
      ],
      "metadata": {
        "id": "MEhbjVAUIN_0"
      }
    },
    {
      "cell_type": "code",
      "source": [
        "data_cleaned = data.select_dtypes(include=['number']).dropna()\n",
        "\n",
        "# Define X and y\n",
        "X = data_cleaned.drop('Rating', axis=1)\n",
        "y = data_cleaned['Rating']"
      ],
      "metadata": {
        "id": "VjdxFx4hlfMo"
      },
      "execution_count": null,
      "outputs": []
    },
    {
      "cell_type": "markdown",
      "source": [
        "#**Questions based on the project.**"
      ],
      "metadata": {
        "id": "0wIhxot7IVjm"
      }
    },
    {
      "cell_type": "markdown",
      "source": [
        "**Problem Statement: Data Cleaning**\n",
        "\n",
        "**Question: How can we clean and preprocess the dataset to handle missing values, data types, and outliers effectively?**"
      ],
      "metadata": {
        "id": "R6YXPL4vQxLY"
      }
    },
    {
      "cell_type": "code",
      "source": [
        "# Handling Missing Values\n",
        "data.drop_duplicates(subset=[\"App\"], inplace=True)\n",
        "data[\"Rating\"].fillna(data[\"Rating\"].median(), inplace=True)\n",
        "data.dropna(subset=[\"Type\", \"Content Rating\"], inplace=True)\n",
        "data[\"Reviews\"] = data[\"Reviews\"].astype(int)\n",
        "\n",
        "# Handling 'Size' column\n",
        "data[\"Size\"] = data[\"Size\"].apply(lambda x: (float(x.replace(\"M\", \"\").replace(\"k\", \"\")) * 1000)\n",
        "                                    if isinstance(x, str) and (\"M\" in x or \"k\" in x) else x)\n",
        "\n",
        "# Ensuring 'Installs' column is in string format\n",
        "data[\"Installs\"] = data[\"Installs\"].astype(str)\n",
        "data[\"Installs\"] = data[\"Installs\"].apply(lambda x: int(x.replace(\"+\", \"\").replace(\",\", \"\")))\n",
        "\n",
        "# Ensuring 'Price' column is in string format\n",
        "data[\"Price\"] = data[\"Price\"].astype(str)\n",
        "data[\"Price\"] = data[\"Price\"].apply(lambda x: float(x.replace(\"$\", \"\")))\n",
        "\n",
        "data[\"Last Updated\"] = pd.to_datetime(data[\"Last Updated\"])\n",
        "\n",
        "# Displaying summary statistics of numeric columns\n",
        "print(data.describe())\n"
      ],
      "metadata": {
        "colab": {
          "base_uri": "https://localhost:8080/"
        },
        "id": "iXoQz7vURdNU",
        "outputId": "2ab9b29a-9bab-4e1c-d275-c035e3340ea0"
      },
      "execution_count": null,
      "outputs": [
        {
          "output_type": "stream",
          "name": "stdout",
          "text": [
            "           Rating     Reviews          Size      Installs  Price  \\\n",
            "count  702.000000  702.000000    702.000000  7.020000e+02  702.0   \n",
            "mean     4.262536    9.495726  17437.749288  3.796184e+06    0.0   \n",
            "std      0.326143    2.044263  22135.007538  4.061351e+06    0.0   \n",
            "min      2.600000    4.000000      0.000000  1.000000e+03    0.0   \n",
            "25%      4.100000    8.000000      0.000000  5.000000e+05    0.0   \n",
            "50%      4.300000   10.000000   9400.000000  1.000000e+06    0.0   \n",
            "75%      4.500000   11.000000  24000.000000  1.000000e+07    0.0   \n",
            "max      4.900000   14.000000  99000.000000  1.000000e+07    0.0   \n",
            "\n",
            "       Sentiment_Polarity  Sentiment_Subjectivity  \n",
            "count          702.000000              702.000000  \n",
            "mean             0.174185                0.491758  \n",
            "std              0.307036                0.223995  \n",
            "min             -1.000000                0.000000  \n",
            "25%              0.000000                0.394122  \n",
            "50%              0.154688                0.511237  \n",
            "75%              0.342143                0.624292  \n",
            "max              1.000000                1.000000  \n"
          ]
        }
      ]
    },
    {
      "cell_type": "markdown",
      "source": [
        "**Problem Statement: Exploratory Data Analysis (EDA)**\n",
        "\n",
        "**Question: What are the patterns, distributions, and relationships among different features in the dataset?**"
      ],
      "metadata": {
        "id": "AU5yvuMYRnGe"
      }
    },
    {
      "cell_type": "code",
      "source": [
        "# EDA - Explore the data visually\n",
        "sns.set(rc={'figure.figsize':(12,8)})\n",
        "sns.boxplot(data['Price'])\n",
        "plt.title(\"Distribution of App Prices\")\n",
        "plt.show()\n",
        "\n",
        "sns.boxplot(data['Reviews'])\n",
        "plt.title(\"Distribution of App Reviews\")\n",
        "plt.show()\n",
        "\n",
        "sns.boxplot(data['Rating'])\n",
        "plt.title(\"Distribution of App Ratings\")\n",
        "plt.show()\n",
        "\n",
        "sns.boxplot(data['Size'])\n",
        "plt.title(\"Distribution of App Sizes\")\n",
        "plt.show()\n"
      ],
      "metadata": {
        "colab": {
          "base_uri": "https://localhost:8080/",
          "height": 1000
        },
        "id": "m3Vu_r2YR2uM",
        "outputId": "586d479a-4c5f-48ec-9a33-12e510e60e09"
      },
      "execution_count": null,
      "outputs": [
        {
          "output_type": "display_data",
          "data": {
            "text/plain": [
              "<Figure size 1200x800 with 1 Axes>"
            ],
            "image/png": "[encoded data removed]"
          },
          "metadata": {}
        },
        {
          "output_type": "display_data",
          "data": {
            "text/plain": [
              "<Figure size 1200x800 with 1 Axes>"
            ],
            "image/png": "[encoded data removed]"
          },
          "metadata": {}
        },
        {
          "output_type": "display_data",
          "data": {
            "text/plain": [
              "<Figure size 1200x800 with 1 Axes>"
            ],
            "image/png": "[encoded data removed]"
          },
          "metadata": {}
        },
        {
          "output_type": "display_data",
          "data": {
            "text/plain": [
              "<Figure size 1200x800 with 1 Axes>"
            ],
            "image/png": "[encoded data removed]"
          },
          "metadata": {}
        }
      ]
    },
    {
      "cell_type": "markdown",
      "source": [
        "**Problem Statement: App Rating Prediction**\n",
        "\n",
        "**Question: Can we predict the app rating based on other features like reviews, size, installs, and price?**"
      ],
      "metadata": {
        "id": "onJ3K3OaSCQK"
      }
    },
    {
      "cell_type": "code",
      "source": [
        "# Preparing data for rating prediction\n",
        "X = data[[\"Reviews\", \"Size\", \"Installs\", \"Price\"]]\n",
        "y = data[\"Rating\"]\n",
        "\n",
        "# Splitting data into training and testing sets\n",
        "X_train, X_test, y_train, y_test = train_test_split(X, y, test_size=0.2, random_state=42)\n",
        "\n",
        "# Training a linear regression model\n",
        "model = LinearRegression()\n",
        "model.fit(X_train, y_train)\n",
        "\n",
        "# Making predictions on the test set\n",
        "y_pred = model.predict(X_test)\n",
        "\n",
        "# Evaluating the model\n",
        "mse = mean_squared_error(y_test, y_pred)\n",
        "print(\"Mean Squared Error:\", mse)"
      ],
      "metadata": {
        "colab": {
          "base_uri": "https://localhost:8080/"
        },
        "id": "0GQhB6k0SFY0",
        "outputId": "af3a76e8-cf4e-483a-8679-9eaf04773a20"
      },
      "execution_count": null,
      "outputs": [
        {
          "output_type": "stream",
          "name": "stdout",
          "text": [
            "Mean Squared Error: 0.09636775385731516\n"
          ]
        }
      ]
    },
    {
      "cell_type": "markdown",
      "source": [
        "**Question: Are there any missing values or duplicate instances in the dataset? If so, how will you handle them?**"
      ],
      "metadata": {
        "id": "ZNxXc4tbne2m"
      }
    },
    {
      "cell_type": "code",
      "source": [
        "# Checking for missing values\n",
        "missing_values = data.isnull().sum()\n",
        "print(\"Missing Values:\")\n",
        "print(missing_values)\n",
        "\n",
        "# Checking for duplicate instances based on the 'App' column\n",
        "duplicate_apps = data[data.duplicated(subset=[\"App\"])]\n",
        "print(\"\\nDuplicate Instances based on 'App' column:\")\n",
        "print(duplicate_apps)\n",
        "\n",
        "# Removing duplicate instances\n",
        "data.drop_duplicates(subset=[\"App\"], inplace=True)\n",
        "\n",
        "# Handling missing values\n",
        "# For 'Rating', filling missing values with the median\n",
        "data[\"Rating\"].fillna(data[\"Rating\"].median(), inplace=True)\n",
        "\n",
        "# For 'Type' and 'Content Rating', dropping rows with missing values\n",
        "data.dropna(subset=[\"Type\", \"Content Rating\"], inplace=True)\n",
        "\n",
        "# displaying the updated dataset information\n",
        "print(\"\\nUpdated Dataset Information:\")\n",
        "print(data.info())"
      ],
      "metadata": {
        "colab": {
          "base_uri": "https://localhost:8080/"
        },
        "id": "8e-Ao2eCnfPT",
        "outputId": "0483de83-4b40-4e52-9495-976cd6526eee"
      },
      "execution_count": null,
      "outputs": [
        {
          "output_type": "stream",
          "name": "stdout",
          "text": [
            "Missing Values:\n",
            "App                       0\n",
            "Rating                    0\n",
            "Reviews                   0\n",
            "Size                      0\n",
            "Installs                  0\n",
            "Type                      0\n",
            "Price                     0\n",
            "Content Rating            0\n",
            "Genres                    0\n",
            "Last Updated              0\n",
            "Current Ver               0\n",
            "Android Ver               0\n",
            "Translated_Review         0\n",
            "Sentiment                 0\n",
            "Sentiment_Polarity        0\n",
            "Sentiment_Subjectivity    0\n",
            "dtype: int64\n",
            "\n",
            "Duplicate Instances based on 'App' column:\n",
            "Empty DataFrame\n",
            "Columns: [App, Rating, Reviews, Size, Installs, Type, Price, Content Rating, Genres, Last Updated, Current Ver, Android Ver, Translated_Review, Sentiment, Sentiment_Polarity, Sentiment_Subjectivity]\n",
            "Index: []\n",
            "\n",
            "Updated Dataset Information:\n",
            "<class 'pandas.core.frame.DataFrame'>\n",
            "Int64Index: 702 entries, 0 to 122564\n",
            "Data columns (total 16 columns):\n",
            " #   Column                  Non-Null Count  Dtype         \n",
            "---  ------                  --------------  -----         \n",
            " 0   App                     702 non-null    object        \n",
            " 1   Rating                  702 non-null    float64       \n",
            " 2   Reviews                 702 non-null    int64         \n",
            " 3   Size                    702 non-null    float64       \n",
            " 4   Installs                702 non-null    int64         \n",
            " 5   Type                    702 non-null    object        \n",
            " 6   Price                   702 non-null    float64       \n",
            " 7   Content Rating          702 non-null    object        \n",
            " 8   Genres                  702 non-null    object        \n",
            " 9   Last Updated            702 non-null    datetime64[ns]\n",
            " 10  Current Ver             702 non-null    object        \n",
            " 11  Android Ver             702 non-null    object        \n",
            " 12  Translated_Review       702 non-null    object        \n",
            " 13  Sentiment               702 non-null    object        \n",
            " 14  Sentiment_Polarity      702 non-null    float64       \n",
            " 15  Sentiment_Subjectivity  702 non-null    float64       \n",
            "dtypes: datetime64[ns](1), float64(5), int64(2), object(8)\n",
            "memory usage: 93.2+ KB\n",
            "None\n"
          ]
        }
      ]
    },
    {
      "cell_type": "markdown",
      "source": [
        "**Question: Perform Data Preprocessing on your dataset**"
      ],
      "metadata": {
        "id": "b6yDmnqR-VdR"
      }
    },
    {
      "cell_type": "code",
      "source": [
        "# Dropping duplicate rows based on the 'App' column\n",
        "data.drop_duplicates(subset=[\"App\"], inplace=True)\n",
        "\n",
        "# Filling missing 'Rating' values with the median of the column\n",
        "data[\"Rating\"].fillna(data[\"Rating\"].median(), inplace=True)\n",
        "\n",
        "# Dropping rows with missing values in 'Type' and 'Content Rating' columns\n",
        "data.dropna(subset=[\"Type\", \"Content Rating\"], inplace=True)\n",
        "\n",
        "# Converting 'Reviews' column to integer type\n",
        "data[\"Reviews\"] = data[\"Reviews\"].astype(int)\n",
        "\n",
        "# Converting 'Size' column to a common unit (MegaBytes) and handle 'k' values\n",
        "data[\"Size\"] = data[\"Size\"].apply(lambda x: float(x.replace(\"M\", \"\").replace(\"k\", \"\")) * 1000 if isinstance(x, str) and (\"M\" in x or \"k\" in x) else x)\n",
        "data[\"Size\"] = data[\"Size\"] * 1000  # Convert 'k' to 'M'\n",
        "\n",
        "# Converting 'Installs' column to integer by removing '+' and ',' symbols\n",
        "data[\"Installs\"] = data[\"Installs\"].apply(lambda x: int(str(x).replace(\"+\", \"\").replace(\",\", \"\")))\n",
        "\n",
        "# Converting 'Price' column to float by removing '$' symbol\n",
        "data[\"Price\"] = data[\"Price\"].apply(lambda x: float(str(x).replace(\"$\", \"\")))\n",
        "\n",
        "# Converting 'Last Updated' column to datetime format\n",
        "data[\"Last Updated\"] = pd.to_datetime(data[\"Last Updated\"])\n",
        "\n",
        "# Splitting the data into features (X) and target variable (y)\n",
        "X = data.drop('Rating', axis=1)\n",
        "y = data['Rating']"
      ],
      "metadata": {
        "id": "qgbtjeNm-ILd"
      },
      "execution_count": null,
      "outputs": []
    },
    {
      "cell_type": "markdown",
      "source": [
        "**Question: Question: You've successfully applied dummy encoding for the \"Category\" feature in your dataset, but now you want to do the same for another categorical feature, \"Genres.\" How can you achieve this?**"
      ],
      "metadata": {
        "id": "uVJDoeeVBTza"
      }
    },
    {
      "cell_type": "code",
      "source": [
        "# Applying dummy encoding for the \"Genres\" feature\n",
        "x = data[[\"Genres\"]]\n",
        "dummies = pd.get_dummies(x, prefix='Genres')\n",
        "data = pd.concat([data, dummies], axis=1)"
      ],
      "metadata": {
        "id": "sMMJVe5TMZsL"
      },
      "execution_count": null,
      "outputs": []
    },
    {
      "cell_type": "markdown",
      "source": [
        "Now, the \"Genres\" feature has been dummy encoded, and you have additional binary features for each genre."
      ],
      "metadata": {
        "id": "zjAteWADSwbE"
      }
    },
    {
      "cell_type": "markdown",
      "source": [
        "**Question: How does the content rating of apps correlate with their user ratings, and what observations can be made about the distribution of ratings within different content rating categories?**"
      ],
      "metadata": {
        "id": "7Z5WQZ5rR8pR"
      }
    },
    {
      "cell_type": "code",
      "source": [
        "sns.barplot(x=\"Rating\", y=\"Content Rating\", data=data)"
      ],
      "metadata": {
        "colab": {
          "base_uri": "https://localhost:8080/",
          "height": 721
        },
        "id": "9JqPy1H5R6mf",
        "outputId": "651444e9-816a-4f0a-f29a-341ba76d9019"
      },
      "execution_count": null,
      "outputs": [
        {
          "output_type": "execute_result",
          "data": {
            "text/plain": [
              "<Axes: xlabel='Rating', ylabel='Content Rating'>"
            ]
          },
          "metadata": {},
          "execution_count": 69
        },
        {
          "output_type": "display_data",
          "data": {
            "text/plain": [
              "<Figure size 1200x800 with 1 Axes>"
            ],
            "image/png": "[encoded data removed]"
          },
          "metadata": {}
        }
      ]
    },
    {
      "cell_type": "markdown",
      "source": [
        "Apps categorized as \"Everyone\" tend to exhibit more unfavorable ratings when compared to other sections due to the presence of numerous outlier values. On the contrary, applications classified as \"18+\" generally showcase higher ratings."
      ],
      "metadata": {
        "id": "1rDJOdSiSrWt"
      }
    }
  ]
}